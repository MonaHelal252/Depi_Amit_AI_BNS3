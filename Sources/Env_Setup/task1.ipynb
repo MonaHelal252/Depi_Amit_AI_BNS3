{
 "cells": [
  {
   "cell_type": "code",
   "execution_count": null,
   "id": "f1adc10c",
   "metadata": {},
   "outputs": [],
   "source": [
    "\n"
   ]
  },
  {
   "cell_type": "code",
   "execution_count": 20,
   "id": "83b18175",
   "metadata": {},
   "outputs": [
    {
     "name": "stdout",
     "output_type": "stream",
     "text": [
      "mocleW EPGTQ\n",
      "Welcom\n",
      "Welcome PGTQ\n"
     ]
    }
   ],
   "source": [
    "Encoded_massage = \"###!!@mocleW EPGTQ!!!6789\"\n",
    "core_part = Encoded_massage[ 6 : 18 : 1]\n",
    "print(core_part)\n",
    "\n",
    "x = core_part.split()\n",
    "first_word = x[0]\n",
    "second_word = x[1]\n",
    "reversed_firstword = first_word[-1 : -7 : -1]\n",
    "print(reversed_firstword )\n",
    "\n",
    "\n",
    "final_decoded_message = \" \"\n",
    "final_decoded_message = reversed_firstword + second_word[0].lower() + \" \" + second_word[1:]\n",
    "\n",
    "\n",
    "print(final_decoded_message)"
   ]
  },
  {
   "cell_type": "code",
   "execution_count": 21,
   "id": "998e7c82",
   "metadata": {},
   "outputs": [
    {
     "name": "stdout",
     "output_type": "stream",
     "text": [
      "mocleW EPGTQ\n",
      "Welcom\n",
      " PGTQ\n",
      "Welcom  PGTQ\n"
     ]
    }
   ],
   "source": [
    "Encoded_massage = \"###!!@mocleW EPGTQ!!!6789\"\n",
    "core_part = Encoded_massage[ 6 : 18 : 1]\n",
    "print(core_part)\n",
    "\n",
    "x = core_part.split()\n",
    "first_word = x[0]\n",
    "second_word = x[1]\n",
    "reversed_firstword = first_word[-1 : -7 : -1]\n",
    "print(reversed_firstword )\n",
    "\n",
    "final_secondword = \" \"\n",
    "vowels = [\"A\" , \"E\" , \"I\" , \"O\" , \"U\"]\n",
    "for i in range(len(second_word)):\n",
    "    if second_word[i] in vowels:\n",
    "        i +=1\n",
    "    else:\n",
    "        final_secondword += second_word[i]  \n",
    "print(final_secondword) \n",
    "\n",
    "final_decoded_message = \" \"\n",
    "final_decoded_message = reversed_firstword + \" \" + final_secondword\n",
    "print(final_decoded_message)"
   ]
  },
  {
   "cell_type": "code",
   "execution_count": null,
   "id": "5b64fbe2",
   "metadata": {},
   "outputs": [],
   "source": []
  }
 ],
 "metadata": {
  "kernelspec": {
   "display_name": ".env",
   "language": "python",
   "name": "python3"
  },
  "language_info": {
   "codemirror_mode": {
    "name": "ipython",
    "version": 3
   },
   "file_extension": ".py",
   "mimetype": "text/x-python",
   "name": "python",
   "nbconvert_exporter": "python",
   "pygments_lexer": "ipython3",
   "version": "3.12.9"
  }
 },
 "nbformat": 4,
 "nbformat_minor": 5
}
