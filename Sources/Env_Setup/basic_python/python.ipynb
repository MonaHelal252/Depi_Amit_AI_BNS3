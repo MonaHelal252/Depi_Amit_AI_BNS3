{
 "cells": [
  {
   "cell_type": "code",
   "execution_count": 2,
   "id": "8d053ffd",
   "metadata": {},
   "outputs": [
    {
     "data": {
      "text/plain": [
       "5"
      ]
     },
     "execution_count": 2,
     "metadata": {},
     "output_type": "execute_result"
    }
   ],
   "source": [
    "x=5\n",
    "x"
   ]
  },
  {
   "cell_type": "code",
   "execution_count": 3,
   "id": "32e111b8",
   "metadata": {},
   "outputs": [
    {
     "data": {
      "text/plain": [
       "5"
      ]
     },
     "execution_count": 3,
     "metadata": {},
     "output_type": "execute_result"
    }
   ],
   "source": [
    "2+3"
   ]
  },
  {
   "cell_type": "code",
   "execution_count": 4,
   "id": "d709a4d0",
   "metadata": {},
   "outputs": [
    {
     "name": "stdout",
     "output_type": "stream",
     "text": [
      "hello world\n"
     ]
    }
   ],
   "source": [
    "print(\"hello world\")"
   ]
  },
  {
   "cell_type": "code",
   "execution_count": 5,
   "id": "ec6c9bd0",
   "metadata": {},
   "outputs": [
    {
     "data": {
      "text/plain": [
       "int"
      ]
     },
     "execution_count": 5,
     "metadata": {},
     "output_type": "execute_result"
    }
   ],
   "source": [
    "x=10\n",
    "type(x)"
   ]
  },
  {
   "cell_type": "code",
   "execution_count": 6,
   "id": "74f99a5a",
   "metadata": {},
   "outputs": [
    {
     "data": {
      "text/plain": [
       "float"
      ]
     },
     "execution_count": 6,
     "metadata": {},
     "output_type": "execute_result"
    }
   ],
   "source": [
    "x=10.0\n",
    "type(x)"
   ]
  },
  {
   "cell_type": "code",
   "execution_count": 7,
   "id": "bfe94af9",
   "metadata": {},
   "outputs": [
    {
     "data": {
      "text/plain": [
       "str"
      ]
     },
     "execution_count": 7,
     "metadata": {},
     "output_type": "execute_result"
    }
   ],
   "source": [
    "x=\"Mona\"\n",
    "type(x)"
   ]
  },
  {
   "cell_type": "code",
   "execution_count": 9,
   "id": "94abd96f",
   "metadata": {},
   "outputs": [
    {
     "data": {
      "text/plain": [
       "'0x1b8ff303510'"
      ]
     },
     "execution_count": 9,
     "metadata": {},
     "output_type": "execute_result"
    }
   ],
   "source": [
    "hex(id(x))"
   ]
  },
  {
   "cell_type": "code",
   "execution_count": 10,
   "id": "bb3dc9c4",
   "metadata": {},
   "outputs": [],
   "source": [
    "# x='''mona is an engineer\"\n",
    "# she \n",
    "# '''\n",
    "# y=20\n",
    "# z=50\n",
    "# q=y+z"
   ]
  },
  {
   "cell_type": "code",
   "execution_count": 11,
   "id": "444863d2",
   "metadata": {},
   "outputs": [
    {
     "name": "stdout",
     "output_type": "stream",
     "text": [
      "my age is  20\n"
     ]
    }
   ],
   "source": [
    "print(\"my age is \",20)"
   ]
  },
  {
   "cell_type": "code",
   "execution_count": 13,
   "id": "f38a46a2",
   "metadata": {},
   "outputs": [
    {
     "name": "stdout",
     "output_type": "stream",
     "text": [
      "my name is mona , and my age is20\n"
     ]
    }
   ],
   "source": [
    "name=\"mona\"\n",
    "age=20\n",
    "print(\"my name is {0} , and my age is{1}\".format(name,age))"
   ]
  },
  {
   "cell_type": "code",
   "execution_count": 14,
   "id": "a06a3cc0",
   "metadata": {},
   "outputs": [
    {
     "name": "stdout",
     "output_type": "stream",
     "text": [
      "my name is mona , and my age is 20\n"
     ]
    }
   ],
   "source": [
    "name=\"mona\"\n",
    "age=20\n",
    "print(f\"my name is {name} , and my age is {age}\")"
   ]
  },
  {
   "cell_type": "code",
   "execution_count": 15,
   "id": "d2f5a2c8",
   "metadata": {},
   "outputs": [
    {
     "data": {
      "text/plain": [
       "list"
      ]
     },
     "execution_count": 15,
     "metadata": {},
     "output_type": "execute_result"
    }
   ],
   "source": [
    "list_1=[1 ,2,3,4]\n",
    "type(list_1)"
   ]
  },
  {
   "cell_type": "code",
   "execution_count": 18,
   "id": "0d9d63a0",
   "metadata": {},
   "outputs": [
    {
     "data": {
      "text/plain": [
       "['m', 'o', 'n', 'a']"
      ]
     },
     "execution_count": 18,
     "metadata": {},
     "output_type": "execute_result"
    }
   ],
   "source": [
    "list_2=\"mona\"\n",
    "type(list_2)\n",
    "list(list_1)\n",
    "list(list_2)"
   ]
  },
  {
   "cell_type": "code",
   "execution_count": 21,
   "id": "45ffb28b",
   "metadata": {},
   "outputs": [
    {
     "data": {
      "text/plain": [
       "'g'"
      ]
     },
     "execution_count": 21,
     "metadata": {},
     "output_type": "execute_result"
    }
   ],
   "source": [
    "str=\"Amit Learning\"\n",
    "str[1]\n",
    "str[-1]"
   ]
  },
  {
   "cell_type": "code",
   "execution_count": 24,
   "id": "6eb8f7a0",
   "metadata": {},
   "outputs": [
    {
     "data": {
      "text/plain": [
       "'Amit l'"
      ]
     },
     "execution_count": 24,
     "metadata": {},
     "output_type": "execute_result"
    }
   ],
   "source": [
    "str=\"Amit learning\"\n",
    "str[0:4:1]\n",
    "str[0:4:2]\n",
    "str[0:6:1]"
   ]
  },
  {
   "cell_type": "code",
   "execution_count": 25,
   "id": "bdaedd8e",
   "metadata": {},
   "outputs": [
    {
     "data": {
      "text/plain": [
       "{' ', 'I', 'L', 'M', 'a', 'd', 'e', 'l', 'n', 'o', 'r', 't'}"
      ]
     },
     "execution_count": 25,
     "metadata": {},
     "output_type": "execute_result"
    }
   ],
   "source": [
    "str=\"I need to learn ML\"\n",
    "set(str)"
   ]
  },
  {
   "cell_type": "code",
   "execution_count": 26,
   "id": "b055e1f0",
   "metadata": {},
   "outputs": [
    {
     "data": {
      "text/plain": [
       "'i need to learn ml'"
      ]
     },
     "execution_count": 26,
     "metadata": {},
     "output_type": "execute_result"
    }
   ],
   "source": [
    "str.lower()"
   ]
  },
  {
   "cell_type": "code",
   "execution_count": 27,
   "id": "2c8cbb3e",
   "metadata": {},
   "outputs": [
    {
     "data": {
      "text/plain": [
       "<function str.upper()>"
      ]
     },
     "execution_count": 27,
     "metadata": {},
     "output_type": "execute_result"
    }
   ],
   "source": [
    "str.upper"
   ]
  },
  {
   "cell_type": "code",
   "execution_count": 28,
   "id": "c285e04a",
   "metadata": {},
   "outputs": [
    {
     "data": {
      "text/plain": [
       "'I NEED TO LEARN ML'"
      ]
     },
     "execution_count": 28,
     "metadata": {},
     "output_type": "execute_result"
    }
   ],
   "source": [
    "str.upper()"
   ]
  },
  {
   "cell_type": "code",
   "execution_count": 29,
   "id": "17310068",
   "metadata": {},
   "outputs": [
    {
     "data": {
      "text/plain": [
       "'I need to learn DS'"
      ]
     },
     "execution_count": 29,
     "metadata": {},
     "output_type": "execute_result"
    }
   ],
   "source": [
    "str.replace(\"ML\",\"DS\")"
   ]
  },
  {
   "cell_type": "code",
   "execution_count": 31,
   "id": "d2544bbe",
   "metadata": {},
   "outputs": [
    {
     "name": "stdout",
     "output_type": "stream",
     "text": [
      "I need to learn ml\n"
     ]
    }
   ],
   "source": [
    "print(str.capitalize())"
   ]
  },
  {
   "cell_type": "code",
   "execution_count": 32,
   "id": "2f3812f5",
   "metadata": {},
   "outputs": [
    {
     "name": "stdout",
     "output_type": "stream",
     "text": [
      "Amit learning\n"
     ]
    }
   ],
   "source": [
    "name=\"amit learning\"\n",
    "print(name.capitalize())"
   ]
  },
  {
   "cell_type": "code",
   "execution_count": 33,
   "id": "1b807a66",
   "metadata": {},
   "outputs": [
    {
     "name": "stdout",
     "output_type": "stream",
     "text": [
      "I need to learn ml\n"
     ]
    }
   ],
   "source": [
    "str=\"i need to learn ML\"\n",
    "print(str.capitalize())"
   ]
  },
  {
   "cell_type": "code",
   "execution_count": 34,
   "id": "a714082e",
   "metadata": {},
   "outputs": [
    {
     "name": "stdout",
     "output_type": "stream",
     "text": [
      "Amit Learning\n"
     ]
    }
   ],
   "source": [
    "name=\"amit learning\"\n",
    "print(name.title())"
   ]
  },
  {
   "cell_type": "code",
   "execution_count": 35,
   "id": "632c4e74",
   "metadata": {},
   "outputs": [
    {
     "name": "stdout",
     "output_type": "stream",
     "text": [
      "AMIT LEARNING\n"
     ]
    }
   ],
   "source": [
    "print(name.swapcase())"
   ]
  },
  {
   "cell_type": "code",
   "execution_count": 36,
   "id": "3ccc1f08",
   "metadata": {},
   "outputs": [
    {
     "name": "stdout",
     "output_type": "stream",
     "text": [
      "1\n"
     ]
    }
   ],
   "source": [
    "print(name.count(\"amit\"))"
   ]
  },
  {
   "cell_type": "code",
   "execution_count": 37,
   "id": "d355feeb",
   "metadata": {},
   "outputs": [
    {
     "name": "stdout",
     "output_type": "stream",
     "text": [
      "['amit', 'learning']\n"
     ]
    }
   ],
   "source": [
    "print(name.split())"
   ]
  },
  {
   "cell_type": "code",
   "execution_count": 38,
   "id": "74ccfba0",
   "metadata": {},
   "outputs": [
    {
     "name": "stdout",
     "output_type": "stream",
     "text": [
      "I   l o v e   E g y p t\n"
     ]
    }
   ],
   "source": [
    "words=\"I love Egypt\"\n",
    "x=' '.join(words)\n",
    "print(x)"
   ]
  },
  {
   "cell_type": "code",
   "execution_count": 39,
   "id": "5dacb212",
   "metadata": {},
   "outputs": [
    {
     "name": "stdout",
     "output_type": "stream",
     "text": [
      "\"hello\"\n"
     ]
    }
   ],
   "source": [
    "print(\"\\\"hello\\\"\")"
   ]
  },
  {
   "cell_type": "code",
   "execution_count": 40,
   "id": "98795bbb",
   "metadata": {},
   "outputs": [
    {
     "name": "stdout",
     "output_type": "stream",
     "text": [
      "{'k1': 'v1', 'k2': 'v2'}\n"
     ]
    }
   ],
   "source": [
    "dict_1={\"k1\" : \"v1\" , \"k2\" : \"v2\"}\n",
    "print(dict_1)"
   ]
  },
  {
   "cell_type": "code",
   "execution_count": 41,
   "id": "88f3a3fb",
   "metadata": {},
   "outputs": [
    {
     "name": "stdout",
     "output_type": "stream",
     "text": [
      "v1\n"
     ]
    }
   ],
   "source": [
    "print(dict_1[\"k1\"])"
   ]
  },
  {
   "cell_type": "code",
   "execution_count": 42,
   "id": "d64ebfff",
   "metadata": {},
   "outputs": [
    {
     "data": {
      "text/plain": [
       "True"
      ]
     },
     "execution_count": 42,
     "metadata": {},
     "output_type": "execute_result"
    }
   ],
   "source": [
    "1!=2"
   ]
  },
  {
   "cell_type": "code",
   "execution_count": 46,
   "id": "25fbb81a",
   "metadata": {},
   "outputs": [
    {
     "data": {
      "text/plain": [
       "False"
      ]
     },
     "execution_count": 46,
     "metadata": {},
     "output_type": "execute_result"
    }
   ],
   "source": [
    "1==2"
   ]
  },
  {
   "cell_type": "code",
   "execution_count": 47,
   "id": "a999ecf9",
   "metadata": {},
   "outputs": [
    {
     "data": {
      "text/plain": [
       "'mona'"
      ]
     },
     "execution_count": 47,
     "metadata": {},
     "output_type": "execute_result"
    }
   ],
   "source": [
    "input(\"enter your name\")"
   ]
  },
  {
   "cell_type": "code",
   "execution_count": 48,
   "id": "2c83bb45",
   "metadata": {},
   "outputs": [],
   "source": [
    "x = input(\"enter your name \")"
   ]
  },
  {
   "cell_type": "code",
   "execution_count": 49,
   "id": "1a2c1faa",
   "metadata": {},
   "outputs": [
    {
     "data": {
      "text/plain": [
       "str"
      ]
     },
     "execution_count": 49,
     "metadata": {},
     "output_type": "execute_result"
    }
   ],
   "source": [
    "type(x)"
   ]
  },
  {
   "cell_type": "code",
   "execution_count": 52,
   "id": "5c58ede9",
   "metadata": {},
   "outputs": [],
   "source": [
    "x = int(input(\"enter your age \"))"
   ]
  },
  {
   "cell_type": "code",
   "execution_count": 53,
   "id": "66038cfc",
   "metadata": {},
   "outputs": [
    {
     "data": {
      "text/plain": [
       "int"
      ]
     },
     "execution_count": 53,
     "metadata": {},
     "output_type": "execute_result"
    }
   ],
   "source": [
    "type(x)"
   ]
  },
  {
   "cell_type": "code",
   "execution_count": 54,
   "id": "0472cf9d",
   "metadata": {},
   "outputs": [
    {
     "name": "stdout",
     "output_type": "stream",
     "text": [
      "the sum of 25 , and 30 is 55\n"
     ]
    }
   ],
   "source": [
    "x = 25\n",
    "y = 30\n",
    "z = x + y\n",
    "print(f\"the sum of {x} , and {y} is\" , z)"
   ]
  },
  {
   "cell_type": "code",
   "execution_count": 56,
   "id": "715eac1e",
   "metadata": {},
   "outputs": [
    {
     "name": "stdout",
     "output_type": "stream",
     "text": [
      "the mult of 25 , and 30 is  750\n"
     ]
    }
   ],
   "source": [
    "x = 25\n",
    "y = 30\n",
    "z = x * y\n",
    "print(\"the mult of {0} , and {1} is \".format(x , y) , z)"
   ]
  },
  {
   "cell_type": "code",
   "execution_count": null,
   "id": "26143e06",
   "metadata": {},
   "outputs": [
    {
     "name": "stdout",
     "output_type": "stream",
     "text": [
      "mocleW EPGTQ\n",
      "Welcom\n",
      " PGTQPGTQPGTQPGTQPGTQ\n"
     ]
    }
   ],
   "source": [
    "\n",
    "# Encoded_massage = \"###!!@mocleW EPGTQ!!!6789\"\n",
    "# core_part = Encoded_massage[ 6 : 18 : 1]\n",
    "# print(core_part)\n",
    "\n",
    "# x = core_part.split()\n",
    "# first_word = x[0]\n",
    "# second_word = x[1]\n",
    "# reversed_firstword = first_word[-1 : -7 : -1]\n",
    "# print(reversed_firstword )\n",
    "\n",
    "# vowels = [\"A\" , \"E\" , \"I\" , \"O\" , \"U\"]\n",
    "# for i in range(len(second_word)):\n",
    "#     if second_word[i] in vowels:\n",
    "#         i +=1\n",
    "#     else:\n",
    "#         final_secondword += second_word[i]         \n",
    "# print(final_secondword)\n",
    "\n",
    "\n"
   ]
  },
  {
   "cell_type": "code",
   "execution_count": null,
   "id": "c7b987fc",
   "metadata": {},
   "outputs": [
    {
     "name": "stdout",
     "output_type": "stream",
     "text": [
      "Welcome\n"
     ]
    }
   ],
   "source": []
  },
  {
   "cell_type": "code",
   "execution_count": null,
   "id": "b2e400ef",
   "metadata": {},
   "outputs": [
    {
     "name": "stdout",
     "output_type": "stream",
     "text": [
      "EPGTQ\n"
     ]
    }
   ],
   "source": [
    "x = \"###!!@mocleW EPGTQ!!!6789\"\n",
    "y = {\"E\"  : \"A\",\n",
    "     \"P\"  : \"E\",\n",
    "     \"G\"  : \"I\",\n",
    "     \"T\"  : \"O\",\n",
    "     \"Q\"  : \"U\"\n",
    "     }\n",
    "if y.keys() == y.values() :\n",
    "    z = y.values()\n",
    "    result_word = ''.join(z)\n",
    "    print(result_word)\n",
    "    \n",
    "   \n",
    "else:\n",
    "    z = y.keys()\n",
    "    result_word = ''.join(z)\n",
    "    print(result_word)\n",
    "\n",
    "\n",
    "    \n",
    "\n",
    " \n",
    "  "
   ]
  },
  {
   "cell_type": "code",
   "execution_count": null,
   "id": "1b133e0b",
   "metadata": {},
   "outputs": [
    {
     "name": "stdout",
     "output_type": "stream",
     "text": [
      "Welcome EPGTQ\n"
     ]
    }
   ],
   "source": [
    "final_decoded_message = y + \" \" + result_word\n",
    "print(final_decoded_message)"
   ]
  },
  {
   "cell_type": "code",
   "execution_count": null,
   "id": "3ccd2535",
   "metadata": {},
   "outputs": [
    {
     "name": "stdout",
     "output_type": "stream",
     "text": [
      "Invalid email\n"
     ]
    }
   ],
   "source": [
    "# Encoded_massage = \"###!!@mocleW EPGTQ!!!6789\"\n",
    "# if \"@\" in Encoded_massage and \".\" in Encoded_massage:\n",
    "#     print(\"Valid email\") \n",
    "# else:\n",
    "#     print(\"Invalid email\") \n"
   ]
  },
  {
   "cell_type": "code",
   "execution_count": null,
   "id": "2d864f81",
   "metadata": {},
   "outputs": [
    {
     "name": "stdout",
     "output_type": "stream",
     "text": [
      " mocleW EPGTQ\n"
     ]
    }
   ],
   "source": [
    "# core_part=\" \"\n",
    "# for i in range (len(Encoded_massage)):\n",
    "#     if Encoded_massage [i]== \"#\" or Encoded_massage [i]==\"!\" or Encoded_massage [i] ==\"@\" or Encoded_massage [i].isdigit():\n",
    "#         i += 1\n",
    "#     else:\n",
    "#         core_part += Encoded_massage[i]\n",
    "\n",
    "# print(core_part)\n",
    "\n",
    "\n",
    "\n",
    "  "
   ]
  },
  {
   "cell_type": "code",
   "execution_count": null,
   "id": "c48e513e",
   "metadata": {},
   "outputs": [
    {
     "name": "stdout",
     "output_type": "stream",
     "text": [
      "['mocleW', 'EPGTQ']\n"
     ]
    }
   ],
   "source": [
    "# x = core_part.split()\n",
    "# print(x)"
   ]
  },
  {
   "cell_type": "code",
   "execution_count": null,
   "id": "ed8b3d7f",
   "metadata": {},
   "outputs": [
    {
     "name": "stdout",
     "output_type": "stream",
     "text": [
      "Welcom\n"
     ]
    }
   ],
   "source": [
    "# first_word = x[0]\n",
    "# second_word = x[1]\n",
    "# first_reversed = first_word[-1 : -7 : -1]\n",
    "# print(first_reversed )\n"
   ]
  },
  {
   "cell_type": "code",
   "execution_count": null,
   "id": "693962d8",
   "metadata": {},
   "outputs": [
    {
     "name": "stdout",
     "output_type": "stream",
     "text": [
      " PGTQ\n"
     ]
    }
   ],
   "source": [
    "# final_secondword = \" \"\n",
    "# vowels = [\"A\" , 'E' ,\"I\" , \"O\" ,\"U\"]\n",
    "# for i in range (len(second_word)):\n",
    "#     if second_word[i] in vowels:\n",
    "#         i +=1\n",
    "#     else:\n",
    "#         final_secondword += second_word[i]\n",
    "\n",
    "# print(final_secondword)\n",
    "\n",
    "\n",
    "  "
   ]
  },
  {
   "cell_type": "code",
   "execution_count": null,
   "id": "625ce659",
   "metadata": {},
   "outputs": [
    {
     "name": "stdout",
     "output_type": "stream",
     "text": [
      "Welcom  PGTQ\n"
     ]
    }
   ],
   "source": [
    "# final_decoded_message = first_reversed + \" \" + final_secondword\n",
    "# print(final_decoded_message)"
   ]
  },
  {
   "cell_type": "code",
   "execution_count": null,
   "id": "2d488407",
   "metadata": {},
   "outputs": [
    {
     "name": "stdout",
     "output_type": "stream",
     "text": [
      " mocleW EPGTQ\n",
      "Welcom\n",
      " PGTQ\n",
      "Welcom  PGTQ\n"
     ]
    }
   ],
   "source": [
    "# Encoded_massage = \"###!!@mocleW EPGTQ!!!6789\"\n",
    "# core_part=\" \"\n",
    "# for i in range (len(Encoded_massage)):\n",
    "#     if Encoded_massage [i]== \"#\" or Encoded_massage [i]==\"!\" or Encoded_massage [i] ==\"@\" or Encoded_massage [i].isdigit():\n",
    "#         i += 1\n",
    "#     else:\n",
    "#         core_part += Encoded_massage[i]\n",
    "\n",
    "# print(core_part)\n",
    "\n",
    "# x = core_part.split()\n",
    "\n",
    "\n",
    "# first_word = x[0]\n",
    "# second_word = x[1]\n",
    "# first_reversed = first_word[-1 : -7 : -1]\n",
    "# print(first_reversed )\n",
    "\n",
    "# final_secondword = \" \"\n",
    "# vowels = [\"A\" , 'E' ,\"I\" , \"O\" ,\"U\"]\n",
    "# for i in range (len(second_word)):\n",
    "#     if second_word[i] in vowels:\n",
    "#         i +=1\n",
    "#     else:\n",
    "#         final_secondword += second_word[i]\n",
    "\n",
    "# print(final_secondword)\n",
    "\n",
    "\n",
    "# final_decoded_message = first_reversed + \" \" + final_secondword\n",
    "# print(final_decoded_message)\n"
   ]
  },
  {
   "cell_type": "code",
   "execution_count": null,
   "id": "a15f0771",
   "metadata": {},
   "outputs": [
    {
     "name": "stdout",
     "output_type": "stream",
     "text": [
      "mocleW EPGTQ\n",
      "Welcom\n",
      " PGTQPGTQPGTQPGTQPGTQPGTQPGTQPGTQPGTQPGTQPGTQ\n",
      "Welcom  PGTQPGTQPGTQPGTQPGTQPGTQPGTQPGTQPGTQPGTQPGTQ\n"
     ]
    }
   ],
   "source": [
    "\n",
    "Encoded_massage = \"###!!@mocleW EPGTQ!!!6789\"\n",
    "core_part = Encoded_massage[ 6 : 18 : 1]\n",
    "print(core_part)\n",
    "\n",
    "x = core_part.split()\n",
    "first_word = x[0]\n",
    "second_word = x[1]\n",
    "reversed_firstword = first_word[-1 : -7 : -1]\n",
    "print(reversed_firstword )\n",
    "\n",
    "vowels = [\"A\" , \"E\" , \"I\" , \"O\" , \"U\"]\n",
    "for i in range(len(second_word)):\n",
    "    if second_word[i] in vowels:\n",
    "        i +=1\n",
    "    else:\n",
    "        final_secondword += second_word[i]  \n",
    "print(final_secondword) \n",
    "\n",
    "final_decoded_message = reversed_firstword + \" \" + final_secondword\n",
    "print(final_decoded_message)\n",
    "\n"
   ]
  },
  {
   "cell_type": "code",
   "execution_count": 151,
   "id": "c155a58f",
   "metadata": {},
   "outputs": [
    {
     "data": {
      "text/plain": [
       "5"
      ]
     },
     "execution_count": 151,
     "metadata": {},
     "output_type": "execute_result"
    }
   ],
   "source": [
    "x=5\n",
    "x"
   ]
  },
  {
   "cell_type": "code",
   "execution_count": 155,
   "id": "b30e7222",
   "metadata": {},
   "outputs": [
    {
     "data": {
      "text/plain": [
       "'DL'"
      ]
     },
     "execution_count": 155,
     "metadata": {},
     "output_type": "execute_result"
    }
   ],
   "source": [
    "list_1 = [1,2,3,4,\"Depi\",\"learning\" , True , [1,2,3,\"true\" , [\"ML\" , \"DS\" ,\"DL\"]]]\n",
    "type(list_1)\n",
    "list_1[4]\n",
    "list_1[7][4][2]"
   ]
  },
  {
   "cell_type": "code",
   "execution_count": 156,
   "id": "45a39693",
   "metadata": {},
   "outputs": [
    {
     "data": {
      "text/plain": [
       "'amit'"
      ]
     },
     "execution_count": 156,
     "metadata": {},
     "output_type": "execute_result"
    }
   ],
   "source": [
    "list_1[4] = \"amit\"\n",
    "list_1[4]"
   ]
  },
  {
   "cell_type": "code",
   "execution_count": 157,
   "id": "7130a7b1",
   "metadata": {},
   "outputs": [
    {
     "data": {
      "text/plain": [
       "[1, 2, 3, 4, 'amit', 'learning', True, [1, 2, 3, 'true', ['ML', 'DS', 'DL']]]"
      ]
     },
     "execution_count": 157,
     "metadata": {},
     "output_type": "execute_result"
    }
   ],
   "source": [
    "list_1"
   ]
  },
  {
   "cell_type": "code",
   "execution_count": 158,
   "id": "375793cc",
   "metadata": {},
   "outputs": [
    {
     "data": {
      "text/plain": [
       "['m', 'o', 'n', 'a']"
      ]
     },
     "execution_count": 158,
     "metadata": {},
     "output_type": "execute_result"
    }
   ],
   "source": [
    "x = \"mona\"\n",
    "list(x)"
   ]
  },
  {
   "cell_type": "code",
   "execution_count": 159,
   "id": "56a933bb",
   "metadata": {},
   "outputs": [
    {
     "name": "stdout",
     "output_type": "stream",
     "text": [
      "<class 'str'>\n",
      "<class 'list'>\n"
     ]
    }
   ],
   "source": [
    "y = list(x)\n",
    "print(type(x))\n",
    "print(type(y))"
   ]
  },
  {
   "cell_type": "code",
   "execution_count": 160,
   "id": "25fd3829",
   "metadata": {},
   "outputs": [
    {
     "name": "stdout",
     "output_type": "stream",
     "text": [
      "['Depi', 'Data', 'Science', 'machine learning']\n"
     ]
    }
   ],
   "source": [
    "list_11 = [\"Depi\",\"Data\",\"Science\"]\n",
    "list_11.append(\"machine learning\")\n",
    "print(list_11)"
   ]
  },
  {
   "cell_type": "code",
   "execution_count": 161,
   "id": "668ac604",
   "metadata": {},
   "outputs": [
    {
     "name": "stdout",
     "output_type": "stream",
     "text": [
      "['machine learning', 'Depi', 'Data', 'Science']\n"
     ]
    }
   ],
   "source": [
    "list_11 = [\"Depi\",\"Data\",\"Science\"]\n",
    "list_11.insert(0,\"machine learning\")\n",
    "print(list_11)"
   ]
  },
  {
   "cell_type": "code",
   "execution_count": 166,
   "id": "50979de7",
   "metadata": {},
   "outputs": [
    {
     "data": {
      "text/plain": [
       "[1, 2, 3, 3, 4, 5]"
      ]
     },
     "execution_count": 166,
     "metadata": {},
     "output_type": "execute_result"
    }
   ],
   "source": [
    "x1 = [1,2,3]\n",
    "x2 = [3,4,5]\n",
    "# z = x1 + x2\n",
    "# print (z)\n",
    "x1.extend(x2)\n",
    "x1"
   ]
  },
  {
   "cell_type": "code",
   "execution_count": 167,
   "id": "1462c877",
   "metadata": {},
   "outputs": [
    {
     "data": {
      "text/plain": [
       "['Data', 'Science']"
      ]
     },
     "execution_count": 167,
     "metadata": {},
     "output_type": "execute_result"
    }
   ],
   "source": [
    "list_11 = [\"Depi\",\"Data\",\"Science\"]\n",
    "list_11.remove(\"Depi\")\n",
    "list_11"
   ]
  },
  {
   "cell_type": "code",
   "execution_count": 171,
   "id": "ddf1944e",
   "metadata": {},
   "outputs": [
    {
     "name": "stdout",
     "output_type": "stream",
     "text": [
      "Science\n"
     ]
    }
   ],
   "source": [
    "list_11 = [\"Depi\",\"Data\",\"Science\"]\n",
    "print(list_11.pop())\n",
    "# list_11"
   ]
  },
  {
   "cell_type": "code",
   "execution_count": 172,
   "id": "7cc02ddb",
   "metadata": {},
   "outputs": [
    {
     "data": {
      "text/plain": [
       "'mona'"
      ]
     },
     "execution_count": 172,
     "metadata": {},
     "output_type": "execute_result"
    }
   ],
   "source": [
    "name = input()\n",
    "name"
   ]
  },
  {
   "cell_type": "code",
   "execution_count": 175,
   "id": "cda9d1dd",
   "metadata": {},
   "outputs": [
    {
     "data": {
      "text/plain": [
       "[]"
      ]
     },
     "execution_count": 175,
     "metadata": {},
     "output_type": "execute_result"
    }
   ],
   "source": [
    "my_list = [3,1,4,1,5,9,2]\n",
    "my_list.clear()\n",
    "my_list"
   ]
  },
  {
   "cell_type": "code",
   "execution_count": 176,
   "id": "227b88a8",
   "metadata": {},
   "outputs": [
    {
     "ename": "NameError",
     "evalue": "name 'my_list' is not defined",
     "output_type": "error",
     "traceback": [
      "\u001b[31m---------------------------------------------------------------------------\u001b[39m",
      "\u001b[31mNameError\u001b[39m                                 Traceback (most recent call last)",
      "\u001b[36mCell\u001b[39m\u001b[36m \u001b[39m\u001b[32mIn[176]\u001b[39m\u001b[32m, line 2\u001b[39m\n\u001b[32m      1\u001b[39m \u001b[38;5;28;01mdel\u001b[39;00m my_list\n\u001b[32m----> \u001b[39m\u001b[32m2\u001b[39m \u001b[43mmy_list\u001b[49m\n",
      "\u001b[31mNameError\u001b[39m: name 'my_list' is not defined"
     ]
    }
   ],
   "source": [
    "del my_list\n",
    "my_list"
   ]
  },
  {
   "cell_type": "code",
   "execution_count": 183,
   "id": "c502f2c7",
   "metadata": {},
   "outputs": [
    {
     "name": "stdout",
     "output_type": "stream",
     "text": [
      "<class 'list'>\n",
      "[1, 2, 3, 4, 'Amit', 'learning', True, [1, 2, 3, 'true', ('ML', 'DS', 'DL')]]\n"
     ]
    },
    {
     "data": {
      "text/plain": [
       "list"
      ]
     },
     "execution_count": 183,
     "metadata": {},
     "output_type": "execute_result"
    }
   ],
   "source": [
    "tuple_1 = (1,2,3,4,\"Depi\",\"learning\" , True , [1,2,3,\"true\" , (\"ML\" , \"DS\" ,\"DL\")])\n",
    "x = list(tuple_1)\n",
    "print(type(x))\n",
    "# tuple_1[4] = \"amit\"\n",
    "x[4] = \"Amit\"\n",
    "print(x)\n",
    "type(x)"
   ]
  },
  {
   "cell_type": "code",
   "execution_count": 182,
   "id": "23253adc",
   "metadata": {},
   "outputs": [
    {
     "data": {
      "text/plain": [
       "tuple"
      ]
     },
     "execution_count": 182,
     "metadata": {},
     "output_type": "execute_result"
    }
   ],
   "source": [
    "y = tuple(x)\n",
    "type(y)"
   ]
  },
  {
   "cell_type": "code",
   "execution_count": null,
   "id": "e7d79c32",
   "metadata": {},
   "outputs": [
    {
     "data": {
      "text/plain": [
       "set"
      ]
     },
     "execution_count": 187,
     "metadata": {},
     "output_type": "execute_result"
    }
   ],
   "source": [
    "x2 = [\"mona\",\"ali\",\"ahmed\",\"aya\",\"aya\"]\n",
    "x3 = set(x2)\n",
    "type(x3)\n"
   ]
  },
  {
   "cell_type": "code",
   "execution_count": 188,
   "id": "3c98721c",
   "metadata": {},
   "outputs": [
    {
     "ename": "TypeError",
     "evalue": "'set' object is not subscriptable",
     "output_type": "error",
     "traceback": [
      "\u001b[31m---------------------------------------------------------------------------\u001b[39m",
      "\u001b[31mTypeError\u001b[39m                                 Traceback (most recent call last)",
      "\u001b[36mCell\u001b[39m\u001b[36m \u001b[39m\u001b[32mIn[188]\u001b[39m\u001b[32m, line 1\u001b[39m\n\u001b[32m----> \u001b[39m\u001b[32m1\u001b[39m \u001b[43mx3\u001b[49m\u001b[43m[\u001b[49m\u001b[32;43m0\u001b[39;49m\u001b[43m]\u001b[49m\n",
      "\u001b[31mTypeError\u001b[39m: 'set' object is not subscriptable"
     ]
    }
   ],
   "source": [
    "x3[0]"
   ]
  },
  {
   "cell_type": "code",
   "execution_count": 190,
   "id": "a1576b60",
   "metadata": {},
   "outputs": [
    {
     "name": "stdout",
     "output_type": "stream",
     "text": [
      "{'key1': 'amit learning', 'key2': 'Depi', 'key3': 'python'}\n"
     ]
    }
   ],
   "source": [
    "dict_1 = {\"key1\" : 12.7,\n",
    "          \"key2\" : \"Depi\",\n",
    "          \"key3\" : \"python\"}\n",
    "dict_1[\"key1\"] = \"amit learning\"\n",
    "print(dict_1)"
   ]
  },
  {
   "cell_type": "code",
   "execution_count": 192,
   "id": "39736f5b",
   "metadata": {},
   "outputs": [
    {
     "name": "stdout",
     "output_type": "stream",
     "text": [
      "{'a': 1, 'b': 2, 'c': 3}\n"
     ]
    }
   ],
   "source": [
    "list_111 = [(\"a\",1) , (\"b\" , 2) , (\"c\" , 3)]\n",
    "# print(list_111)\n",
    "zz = dict(list_111)\n",
    "print(zz)"
   ]
  },
  {
   "cell_type": "code",
   "execution_count": 198,
   "id": "904b90a4",
   "metadata": {},
   "outputs": [
    {
     "name": "stdout",
     "output_type": "stream",
     "text": [
      "A\n"
     ]
    }
   ],
   "source": [
    "grade = float(input(\"enter grade : \"))\n",
    "if grade <= 100 and grade > 90:\n",
    "    print(\"A\")\n",
    "elif grade <= 90 and grade >80:\n",
    "    print(\"B\")\n",
    "elif grade <= 80 and grade >70:\n",
    "    print(\"C\")\n",
    "elif grade <= 70 and grade >60:\n",
    "    print(\"D\")\n",
    "else:\n",
    "    print(\"F\")\n"
   ]
  },
  {
   "cell_type": "code",
   "execution_count": 199,
   "id": "6e3e9770",
   "metadata": {},
   "outputs": [
    {
     "name": "stdout",
     "output_type": "stream",
     "text": [
      "0\n",
      "1\n",
      "2\n",
      "4\n",
      "5\n"
     ]
    }
   ],
   "source": [
    "for i in range (6):\n",
    "    if i == 3:\n",
    "        continue\n",
    "    print(i)\n"
   ]
  },
  {
   "cell_type": "code",
   "execution_count": null,
   "id": "391e9332",
   "metadata": {},
   "outputs": [
    {
     "name": "stdout",
     "output_type": "stream",
     "text": [
      "0\n",
      "1\n",
      "2\n"
     ]
    }
   ],
   "source": [
    "for i in range (6):\n",
    "    if i == 4:\n",
    "        break\n",
    "    print(i)"
   ]
  },
  {
   "cell_type": "code",
   "execution_count": 202,
   "id": "1252c52b",
   "metadata": {},
   "outputs": [
    {
     "name": "stdout",
     "output_type": "stream",
     "text": [
      "0\n",
      "1\n",
      "3\n",
      "4\n",
      "5\n"
     ]
    }
   ],
   "source": [
    "for i in range (6):\n",
    "    if i == 2:\n",
    "       pass\n",
    "    else:\n",
    "     print(i)"
   ]
  },
  {
   "cell_type": "code",
   "execution_count": 203,
   "id": "185d185f",
   "metadata": {},
   "outputs": [],
   "source": [
    "for i in range(100):\n",
    "    pass"
   ]
  },
  {
   "cell_type": "code",
   "execution_count": 205,
   "id": "67c2132e",
   "metadata": {},
   "outputs": [],
   "source": [
    "import os\n",
    "import sys"
   ]
  },
  {
   "cell_type": "code",
   "execution_count": 223,
   "id": "c19b0ae7",
   "metadata": {},
   "outputs": [
    {
     "name": "stdout",
     "output_type": "stream",
     "text": [
      "Hello Again Depi\n"
     ]
    }
   ],
   "source": [
    "f = open (\"C:/Users/Domain/Desktop/New folder/Depi_Amit_AI_BNS3/Depi_Amit_AI_BNS3/Sources/Env_Setup/test.txt\",\"r\")\n",
    "print(f.read())\n",
    "f.close()"
   ]
  },
  {
   "cell_type": "code",
   "execution_count": null,
   "id": "ad17db42",
   "metadata": {},
   "outputs": [
    {
     "ename": "ValueError",
     "evalue": "I/O operation on closed file.",
     "output_type": "error",
     "traceback": [
      "\u001b[31m---------------------------------------------------------------------------\u001b[39m",
      "\u001b[31mValueError\u001b[39m                                Traceback (most recent call last)",
      "\u001b[36mCell\u001b[39m\u001b[36m \u001b[39m\u001b[32mIn[222]\u001b[39m\u001b[32m, line 1\u001b[39m\n\u001b[32m----> \u001b[39m\u001b[32m1\u001b[39m \u001b[38;5;28mprint\u001b[39m(\u001b[43mf\u001b[49m\u001b[43m.\u001b[49m\u001b[43mread\u001b[49m\u001b[43m(\u001b[49m\u001b[43m)\u001b[49m)\n\u001b[32m      2\u001b[39m f.close()\n",
      "\u001b[31mValueError\u001b[39m: I/O operation on closed file."
     ]
    }
   ],
   "source": []
  },
  {
   "cell_type": "code",
   "execution_count": 221,
   "id": "e6980bd8",
   "metadata": {},
   "outputs": [
    {
     "name": "stdout",
     "output_type": "stream",
     "text": [
      "16\n"
     ]
    }
   ],
   "source": [
    "f = open (\"C:/Users/Domain/Desktop/New folder/Depi_Amit_AI_BNS3/Depi_Amit_AI_BNS3/Sources/Env_Setup/test.txt\",\"w\")\n",
    "print(f.write(\"Hello Again Depi\"))\n",
    "f.close()"
   ]
  },
  {
   "cell_type": "code",
   "execution_count": 224,
   "id": "d69241f9",
   "metadata": {},
   "outputs": [],
   "source": [
    "import os"
   ]
  },
  {
   "cell_type": "code",
   "execution_count": 230,
   "id": "bd13b5fa",
   "metadata": {},
   "outputs": [
    {
     "ename": "SyntaxError",
     "evalue": "(unicode error) 'unicodeescape' codec can't decode bytes in position 2-3: truncated \\UXXXXXXXX escape (2317919056.py, line 1)",
     "output_type": "error",
     "traceback": [
      "  \u001b[36mCell\u001b[39m\u001b[36m \u001b[39m\u001b[32mIn[230]\u001b[39m\u001b[32m, line 1\u001b[39m\n\u001b[31m    \u001b[39m\u001b[31mfile = os.listdir('C:\\Users\\Domain\\Desktop\\New folder\\Depi_Amit_AI_BNS3\\Depi_Amit_AI_BNS3\\Sources\\Env_Setup\\basic_python\\python.ipynb')\u001b[39m\n                      ^\n\u001b[31mSyntaxError\u001b[39m\u001b[31m:\u001b[39m (unicode error) 'unicodeescape' codec can't decode bytes in position 2-3: truncated \\UXXXXXXXX escape\n"
     ]
    }
   ],
   "source": [
    "file = os.listdir('C:\\Users\\Domain\\Desktop\\New folder\\Depi_Amit_AI_BNS3\\Depi_Amit_AI_BNS3\\Sources\\Env_Setup\\basic_python\\python.ipynb')"
   ]
  },
  {
   "cell_type": "code",
   "execution_count": 1,
   "id": "ce9e2376",
   "metadata": {},
   "outputs": [
    {
     "ename": "NameError",
     "evalue": "name 'os' is not defined",
     "output_type": "error",
     "traceback": [
      "\u001b[31m---------------------------------------------------------------------------\u001b[39m",
      "\u001b[31mNameError\u001b[39m                                 Traceback (most recent call last)",
      "\u001b[36mCell\u001b[39m\u001b[36m \u001b[39m\u001b[32mIn[1]\u001b[39m\u001b[32m, line 1\u001b[39m\n\u001b[32m----> \u001b[39m\u001b[32m1\u001b[39m file = \u001b[43mos\u001b[49m.listdir(\u001b[33m\"\u001b[39m\u001b[33mfile = os.listdir\u001b[39m\u001b[33m\"\u001b[39m)\n",
      "\u001b[31mNameError\u001b[39m: name 'os' is not defined"
     ]
    }
   ],
   "source": [
    "file = os.listdir(\"file = os.listdir\")"
   ]
  },
  {
   "cell_type": "code",
   "execution_count": 2,
   "id": "63d95ad3",
   "metadata": {},
   "outputs": [
    {
     "ename": "NameError",
     "evalue": "name 'os' is not defined",
     "output_type": "error",
     "traceback": [
      "\u001b[31m---------------------------------------------------------------------------\u001b[39m",
      "\u001b[31mNameError\u001b[39m                                 Traceback (most recent call last)",
      "\u001b[36mCell\u001b[39m\u001b[36m \u001b[39m\u001b[32mIn[2]\u001b[39m\u001b[32m, line 1\u001b[39m\n\u001b[32m----> \u001b[39m\u001b[32m1\u001b[39m file = \u001b[43mos\u001b[49m.listdir(\u001b[33m\"\u001b[39m\u001b[33mC:/Users/Domain/Desktop/New folder/Depi_Amit_AI_BNS3/Depi_Amit_AI_BNS3/Sources/Env_Setup/basic_python\u001b[39m\u001b[33m\"\u001b[39m)\n",
      "\u001b[31mNameError\u001b[39m: name 'os' is not defined"
     ]
    }
   ],
   "source": [
    "file = os.listdir(\"C:/Users/Domain/Desktop/New folder/Depi_Amit_AI_BNS3/Depi_Amit_AI_BNS3/Sources/Env_Setup/basic_python\")"
   ]
  },
  {
   "cell_type": "code",
   "execution_count": 3,
   "id": "f056c070",
   "metadata": {},
   "outputs": [
    {
     "ename": "NameError",
     "evalue": "name 'os' is not defined",
     "output_type": "error",
     "traceback": [
      "\u001b[31m---------------------------------------------------------------------------\u001b[39m",
      "\u001b[31mNameError\u001b[39m                                 Traceback (most recent call last)",
      "\u001b[36mCell\u001b[39m\u001b[36m \u001b[39m\u001b[32mIn[3]\u001b[39m\u001b[32m, line 1\u001b[39m\n\u001b[32m----> \u001b[39m\u001b[32m1\u001b[39m file = \u001b[43mos\u001b[49m.listdir(\u001b[33m\"\u001b[39m\u001b[33mC:/Users/Domain/Desktop/New folder/Depi_Amit_AI_BNS3/Depi_Amit_AI_BNS3/Sources/Env_Setup/basic_python\u001b[39m\u001b[33m\"\u001b[39m)\n",
      "\u001b[31mNameError\u001b[39m: name 'os' is not defined"
     ]
    }
   ],
   "source": [
    "file = os.listdir(\"C:/Users/Domain/Desktop/New folder/Depi_Amit_AI_BNS3/Depi_Amit_AI_BNS3/Sources/Env_Setup/basic_python\")"
   ]
  },
  {
   "cell_type": "code",
   "execution_count": null,
   "id": "b8dcefc3",
   "metadata": {},
   "outputs": [],
   "source": [
    "base_dir = \"\"\n",
    "file_name = \"text_1.txt\"\n",
    "file_root_path = os.path.join(base_dir , file_name)"
   ]
  },
  {
   "cell_type": "code",
   "execution_count": null,
   "id": "b305372c",
   "metadata": {},
   "outputs": [],
   "source": [
    "import os \n",
    "dir_1 = \"C:\\Users\\Domain\\Desktop\\New folder\\Depi_Amit_AI_BNS3\\Depi_Amit_AI_BNS3\\Sources\\Env_Setup\\basic_python\\python.ipynb\"\n",
    "if not os.path.exists(dir_1):\n",
    "    os.makedirs(dir_1)\n",
    "else:\n",
    "    "
   ]
  },
  {
   "cell_type": "code",
   "execution_count": 10,
   "id": "15cf2392",
   "metadata": {},
   "outputs": [],
   "source": [
    "import os\n",
    "path = \"C:/Users/Domain/Desktop/New folder/Depi_Amit_AI_BNS3/Depi_Amit_AI_BNS3/Sources\"\n",
    "if not os.path.exists(path):\n",
    "    os.makedirs(path)\n",
    "for i in range(20):\n",
    "    inner_path  = os.path.join(path,\"dir_\" + str(i))\n",
    "    if not os.path.exists(inner_path) :\n",
    "        os.makedirs(inner_path)"
   ]
  },
  {
   "cell_type": "code",
   "execution_count": 13,
   "id": "df48a9ce",
   "metadata": {},
   "outputs": [],
   "source": [
    "def factorial(num):\n",
    "    \"\"\"\n",
    "    \n",
    "    \n",
    "    \"\"\"\n",
    "    if num == 0:\n",
    "       return 0\n",
    "    if num == 1:\n",
    "       return 1\n",
    "    return num * factorial(num - 1)\n"
   ]
  },
  {
   "cell_type": "code",
   "execution_count": 14,
   "id": "75bf35ac",
   "metadata": {},
   "outputs": [
    {
     "data": {
      "text/plain": [
       "120"
      ]
     },
     "execution_count": 14,
     "metadata": {},
     "output_type": "execute_result"
    }
   ],
   "source": [
    "factorial(5)"
   ]
  },
  {
   "cell_type": "code",
   "execution_count": 15,
   "id": "9a24daad",
   "metadata": {},
   "outputs": [],
   "source": [
    "from math import factorial"
   ]
  },
  {
   "cell_type": "code",
   "execution_count": 16,
   "id": "5b1cb366",
   "metadata": {},
   "outputs": [
    {
     "data": {
      "text/plain": [
       "120"
      ]
     },
     "execution_count": 16,
     "metadata": {},
     "output_type": "execute_result"
    }
   ],
   "source": [
    "factorial(5)"
   ]
  },
  {
   "cell_type": "code",
   "execution_count": 17,
   "id": "9c3fbce5",
   "metadata": {},
   "outputs": [],
   "source": [
    "import random\n",
    "def generate_password(length):\n",
    "    characters = \"abcdefghijklmnopqrstuvwxyzABCDEFGHIJKLMNOPQRSTUVWXYZ1234567890!@#$%^&*\"\n",
    "    password = \"\"\n",
    "\n",
    "    for _ in range(length):\n",
    "        password +=random.choice(characters)\n",
    "\n",
    "    return password\n"
   ]
  },
  {
   "cell_type": "code",
   "execution_count": 18,
   "id": "43e5db81",
   "metadata": {},
   "outputs": [
    {
     "data": {
      "text/plain": [
       "'KqPKt7Vs@'"
      ]
     },
     "execution_count": 18,
     "metadata": {},
     "output_type": "execute_result"
    }
   ],
   "source": [
    "generate_password(9)"
   ]
  },
  {
   "cell_type": "code",
   "execution_count": 1,
   "id": "ee6fa355",
   "metadata": {},
   "outputs": [],
   "source": [
    "import os\n",
    "import sys"
   ]
  },
  {
   "cell_type": "code",
   "execution_count": 5,
   "id": "b6d11ff8",
   "metadata": {},
   "outputs": [],
   "source": [
    "f = open(\"C:/Users/Domain/Desktop/New folder/Depi_Amit_AI_BNS3/Depi_Amit_AI_BNS3/Sources/Env_Setup/basic_python/Depi_Amit_AI_BNS3/test.txt\" , \"r\")"
   ]
  },
  {
   "cell_type": "code",
   "execution_count": 13,
   "id": "632114f1",
   "metadata": {},
   "outputs": [],
   "source": [
    "\n",
    "\n",
    "all_lines = f.readlines()\n",
    "for line in all_lines:\n",
    "    print(line)"
   ]
  },
  {
   "cell_type": "code",
   "execution_count": null,
   "id": "c9f288b7",
   "metadata": {},
   "outputs": [],
   "source": []
  },
  {
   "cell_type": "code",
   "execution_count": null,
   "id": "3a0b6d85",
   "metadata": {},
   "outputs": [],
   "source": []
  }
 ],
 "metadata": {
  "kernelspec": {
   "display_name": ".env",
   "language": "python",
   "name": "python3"
  },
  "language_info": {
   "codemirror_mode": {
    "name": "ipython",
    "version": 3
   },
   "file_extension": ".py",
   "mimetype": "text/x-python",
   "name": "python",
   "nbconvert_exporter": "python",
   "pygments_lexer": "ipython3",
   "version": "3.12.9"
  }
 },
 "nbformat": 4,
 "nbformat_minor": 5
}
