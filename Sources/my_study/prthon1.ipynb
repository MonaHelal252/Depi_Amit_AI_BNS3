{
 "cells": [
  {
   "cell_type": "code",
   "execution_count": 1,
   "id": "ccaa92cc",
   "metadata": {},
   "outputs": [
    {
     "name": "stdout",
     "output_type": "stream",
     "text": [
      "6\n"
     ]
    }
   ],
   "source": [
    "a = 5\n",
    "a = 6\n",
    "print(a)"
   ]
  },
  {
   "cell_type": "code",
   "execution_count": 3,
   "id": "d6d99fcc",
   "metadata": {},
   "outputs": [
    {
     "name": "stdout",
     "output_type": "stream",
     "text": [
      "my name is mona, and my age is 20\n",
      "my name is mona, and my age is 20\n",
      "my name is mona, and my age is 20\n"
     ]
    }
   ],
   "source": [
    "print(\"my name is {}, and my age is {}\".format(\"mona\",20))\n",
    "print(\"my name is {0}, and my age is {1}\".format(\"mona\",20))\n",
    "print(\"my name is {x}, and my age is {y}\".format(x = \"mona\", y = 20))"
   ]
  },
  {
   "cell_type": "code",
   "execution_count": 5,
   "id": "932c2734",
   "metadata": {},
   "outputs": [
    {
     "name": "stdout",
     "output_type": "stream",
     "text": [
      "my name is mona, and my age is 20\n"
     ]
    }
   ],
   "source": [
    "name = \"mona\"\n",
    "age = 20\n",
    "print(f\"my name is {name}, and my age is {age}\")"
   ]
  },
  {
   "cell_type": "code",
   "execution_count": 6,
   "id": "ebdebb23",
   "metadata": {},
   "outputs": [
    {
     "name": "stdout",
     "output_type": "stream",
     "text": [
      "My name is mona, and I am 20 years old. I am engaged in learning Data Science.\n"
     ]
    }
   ],
   "source": [
    "your_name = \"mona\"\n",
    "your_age = 20\n",
    "course_name = \"Data Science\"\n",
    "print(f\"My name is {your_name}, and I am {your_age} years old. I am engaged in learning {course_name}.\")"
   ]
  },
  {
   "cell_type": "code",
   "execution_count": 8,
   "id": "4f6dd1b0",
   "metadata": {},
   "outputs": [
    {
     "name": "stdout",
     "output_type": "stream",
     "text": [
      "Mona helal\n"
     ]
    }
   ],
   "source": [
    "name = \"mONa Helal\"\n",
    "print(name.capitalize())"
   ]
  },
  {
   "cell_type": "code",
   "execution_count": 9,
   "id": "1aa2646c",
   "metadata": {},
   "outputs": [
    {
     "name": "stdout",
     "output_type": "stream",
     "text": [
      "my name is mona\n"
     ]
    }
   ],
   "source": [
    "list_1 = [\"my\",\"name\",\"is\",\"mona\"]\n",
    "list_2 = ' '.join(list_1)\n",
    "print(list_2)"
   ]
  },
  {
   "cell_type": "code",
   "execution_count": 10,
   "id": "f204a47e",
   "metadata": {},
   "outputs": [
    {
     "name": "stdout",
     "output_type": "stream",
     "text": [
      "\"my name is mona\"\n"
     ]
    }
   ],
   "source": [
    "print(\"\\\"my name is mona\\\"\")"
   ]
  },
  {
   "cell_type": "code",
   "execution_count": 11,
   "id": "b973b61d",
   "metadata": {},
   "outputs": [
    {
     "name": "stdout",
     "output_type": "stream",
     "text": [
      "['my', 'name', 'is', 'mona', 5]\n"
     ]
    }
   ],
   "source": [
    "list_1.append(5)\n",
    "print(list_1)"
   ]
  },
  {
   "cell_type": "code",
   "execution_count": 12,
   "id": "ef0b7db3",
   "metadata": {},
   "outputs": [
    {
     "name": "stdout",
     "output_type": "stream",
     "text": [
      "[7, 'my', 'name', 'is', 'mona', 5]\n"
     ]
    }
   ],
   "source": [
    "list_1.insert(0,7)\n",
    "print(list_1)"
   ]
  },
  {
   "cell_type": "code",
   "execution_count": 13,
   "id": "255bb50d",
   "metadata": {},
   "outputs": [
    {
     "name": "stdout",
     "output_type": "stream",
     "text": [
      "[7, 'my', 'name', 'is', 'mona', 5, 'm', 'y', ' ', 'n', 'a', 'm', 'e', ' ', 'i', 's', ' ', 'm', 'o', 'n', 'a']\n"
     ]
    }
   ],
   "source": [
    "list_1.extend(list_2)\n",
    "print(list_1)"
   ]
  },
  {
   "cell_type": "code",
   "execution_count": 14,
   "id": "d8aecf7f",
   "metadata": {},
   "outputs": [],
   "source": [
    "list_1.remove(7)"
   ]
  },
  {
   "cell_type": "code",
   "execution_count": 15,
   "id": "0d206401",
   "metadata": {},
   "outputs": [
    {
     "name": "stdout",
     "output_type": "stream",
     "text": [
      "['my', 'name', 'is', 'mona', 5, 'm', 'y', ' ', 'n', 'a', 'm', 'e', ' ', 'i', 's', ' ', 'm', 'o', 'n', 'a']\n"
     ]
    }
   ],
   "source": [
    "print(list_1)"
   ]
  },
  {
   "cell_type": "code",
   "execution_count": 19,
   "id": "d1896a97",
   "metadata": {},
   "outputs": [
    {
     "name": "stdout",
     "output_type": "stream",
     "text": [
      "['my', 'name', 'mona', 5, 'y', 'a', 'm', 'e', ' ', 'i', 's', ' ', 'm', 'o', 'n', 'a']\n"
     ]
    }
   ],
   "source": [
    "x = list_1.pop(5)\n",
    "print(list_1)\n"
   ]
  },
  {
   "cell_type": "code",
   "execution_count": 20,
   "id": "d5a67d80",
   "metadata": {},
   "outputs": [
    {
     "name": "stdout",
     "output_type": "stream",
     "text": [
      "n\n"
     ]
    }
   ],
   "source": [
    "print(x)"
   ]
  },
  {
   "cell_type": "code",
   "execution_count": 21,
   "id": "2b7ab5db",
   "metadata": {},
   "outputs": [
    {
     "name": "stdout",
     "output_type": "stream",
     "text": [
      "['name', 'mona', 5, 'y', 'a', 'm', 'e', ' ', 'i', 's', ' ', 'm', 'o', 'n', 'a']\n"
     ]
    }
   ],
   "source": [
    "del list_1[0]\n",
    "print(list_1)\n"
   ]
  },
  {
   "cell_type": "code",
   "execution_count": 22,
   "id": "84bce72e",
   "metadata": {},
   "outputs": [
    {
     "name": "stdout",
     "output_type": "stream",
     "text": [
      "mona 231356\n"
     ]
    }
   ],
   "source": [
    "name = input(\"enter your name: \")\n",
    "id = input(\"enter your id: \")\n",
    "print (name , id)"
   ]
  },
  {
   "cell_type": "code",
   "execution_count": 23,
   "id": "f60c2245",
   "metadata": {},
   "outputs": [
    {
     "name": "stdout",
     "output_type": "stream",
     "text": [
      "input list = ['learning', 'python', 'machine learning', 'data science', 'deep learning']\n"
     ]
    }
   ],
   "source": [
    "input_list = [\"amit\",\"learning\",\"python\",\"machine learning\",\"data science\",\"deep learning\"]\n",
    "item = input(\"enter an item to remove: \")\n",
    "input_list.remove(item)\n",
    "print(f\"input list = {input_list}\")"
   ]
  },
  {
   "cell_type": "code",
   "execution_count": 24,
   "id": "dc77fb88",
   "metadata": {},
   "outputs": [
    {
     "name": "stdout",
     "output_type": "stream",
     "text": [
      "3\n"
     ]
    }
   ],
   "source": [
    "i = input_list.index(\"data science\")\n",
    "print(i)"
   ]
  },
  {
   "cell_type": "code",
   "execution_count": 25,
   "id": "0e986256",
   "metadata": {},
   "outputs": [
    {
     "name": "stdout",
     "output_type": "stream",
     "text": [
      "1\n"
     ]
    }
   ],
   "source": [
    "c = input_list.count(\"learning\")\n",
    "print(c)"
   ]
  },
  {
   "cell_type": "code",
   "execution_count": 27,
   "id": "fa51acb3",
   "metadata": {},
   "outputs": [
    {
     "name": "stdout",
     "output_type": "stream",
     "text": [
      "[0, 4, 5, 6, 7, 7, 8, 9, 55]\n"
     ]
    }
   ],
   "source": [
    "list_3 = [5,8,9,7,6,55,4,0,7]\n",
    "list_3.sort()\n",
    "print(list_3)"
   ]
  },
  {
   "cell_type": "code",
   "execution_count": 28,
   "id": "c579cd4e",
   "metadata": {},
   "outputs": [
    {
     "name": "stdout",
     "output_type": "stream",
     "text": [
      "[55, 9, 8, 7, 7, 6, 5, 4, 0]\n"
     ]
    }
   ],
   "source": [
    "list_3.reverse()\n",
    "print(list_3)"
   ]
  },
  {
   "cell_type": "code",
   "execution_count": 29,
   "id": "42c7c0a3",
   "metadata": {},
   "outputs": [
    {
     "name": "stdout",
     "output_type": "stream",
     "text": [
      "[7, 0, 4, 55, 6, 7, 9, 8, 5]\n"
     ]
    }
   ],
   "source": [
    "list_3 = [5,8,9,7,6,55,4,0,7]\n",
    "list_3.reverse()\n",
    "print(list_3)"
   ]
  },
  {
   "cell_type": "code",
   "execution_count": 30,
   "id": "9102619e",
   "metadata": {},
   "outputs": [],
   "source": [
    "list_3.clear()"
   ]
  },
  {
   "cell_type": "code",
   "execution_count": 31,
   "id": "6d6c9a82",
   "metadata": {},
   "outputs": [
    {
     "name": "stdout",
     "output_type": "stream",
     "text": [
      "[]\n"
     ]
    }
   ],
   "source": [
    "print(list_3)"
   ]
  },
  {
   "cell_type": "code",
   "execution_count": 32,
   "id": "44ace83c",
   "metadata": {},
   "outputs": [],
   "source": [
    "list_3 = [5,8,9,7,6,55,4,0,7]\n",
    "del list_3"
   ]
  },
  {
   "cell_type": "code",
   "execution_count": 33,
   "id": "c48b3ff7",
   "metadata": {},
   "outputs": [
    {
     "ename": "NameError",
     "evalue": "name 'list_3' is not defined",
     "output_type": "error",
     "traceback": [
      "\u001b[31m---------------------------------------------------------------------------\u001b[39m",
      "\u001b[31mNameError\u001b[39m                                 Traceback (most recent call last)",
      "\u001b[36mCell\u001b[39m\u001b[36m \u001b[39m\u001b[32mIn[33]\u001b[39m\u001b[32m, line 1\u001b[39m\n\u001b[32m----> \u001b[39m\u001b[32m1\u001b[39m \u001b[38;5;28mprint\u001b[39m(\u001b[43mlist_3\u001b[49m)\n",
      "\u001b[31mNameError\u001b[39m: name 'list_3' is not defined"
     ]
    }
   ],
   "source": [
    "print(list_3)"
   ]
  },
  {
   "cell_type": "code",
   "execution_count": 34,
   "id": "7ce8a8e3",
   "metadata": {},
   "outputs": [
    {
     "name": "stdout",
     "output_type": "stream",
     "text": [
      "<class 'tuple'>\n"
     ]
    }
   ],
   "source": [
    "tuple_1 = (1,2,3,1,2,3)\n",
    "print(type(tuple_1))"
   ]
  },
  {
   "cell_type": "code",
   "execution_count": 35,
   "id": "bd12e54b",
   "metadata": {},
   "outputs": [
    {
     "name": "stdout",
     "output_type": "stream",
     "text": [
      "1\n"
     ]
    }
   ],
   "source": [
    "print(tuple_1[3])"
   ]
  },
  {
   "cell_type": "code",
   "execution_count": 36,
   "id": "a9cd98e1",
   "metadata": {},
   "outputs": [
    {
     "ename": "TypeError",
     "evalue": "'tuple' object does not support item assignment",
     "output_type": "error",
     "traceback": [
      "\u001b[31m---------------------------------------------------------------------------\u001b[39m",
      "\u001b[31mTypeError\u001b[39m                                 Traceback (most recent call last)",
      "\u001b[36mCell\u001b[39m\u001b[36m \u001b[39m\u001b[32mIn[36]\u001b[39m\u001b[32m, line 1\u001b[39m\n\u001b[32m----> \u001b[39m\u001b[32m1\u001b[39m \u001b[43mtuple_1\u001b[49m\u001b[43m[\u001b[49m\u001b[32;43m1\u001b[39;49m\u001b[43m]\u001b[49m = \u001b[33m\"\u001b[39m\u001b[33mmona\u001b[39m\u001b[33m\"\u001b[39m\n\u001b[32m      2\u001b[39m \u001b[38;5;28mprint\u001b[39m(tuple_1)\n",
      "\u001b[31mTypeError\u001b[39m: 'tuple' object does not support item assignment"
     ]
    }
   ],
   "source": [
    "tuple_1[1] = \"mona\"\n",
    "print(tuple_1)"
   ]
  },
  {
   "cell_type": "code",
   "execution_count": 40,
   "id": "3b04d37d",
   "metadata": {},
   "outputs": [
    {
     "name": "stdout",
     "output_type": "stream",
     "text": [
      "[1, 2, 3, 4, 5, 'mona', True, 99]\n",
      "(1, 2, 3, 4, 5, 'mona', True, 99)\n",
      "(1, 2, 4, 5, 'mona', True, 99)\n"
     ]
    }
   ],
   "source": [
    "my_tuple = (1,2,3,4,5,\"mona\",True)\n",
    "my_list = list(my_tuple)\n",
    "my_list.append(99)\n",
    "print(my_list)\n",
    "my_tuple = tuple(my_list)\n",
    "print(my_tuple)\n",
    "my_list_ = list(my_tuple)\n",
    "my_list.remove(3)\n",
    "my_tuple = tuple(my_list)\n",
    "print(my_tuple)"
   ]
  },
  {
   "cell_type": "code",
   "execution_count": 42,
   "id": "e0934a01",
   "metadata": {},
   "outputs": [
    {
     "name": "stdout",
     "output_type": "stream",
     "text": [
      "<class 'set'>\n"
     ]
    },
    {
     "ename": "TypeError",
     "evalue": "'set' object is not subscriptable",
     "output_type": "error",
     "traceback": [
      "\u001b[31m---------------------------------------------------------------------------\u001b[39m",
      "\u001b[31mTypeError\u001b[39m                                 Traceback (most recent call last)",
      "\u001b[36mCell\u001b[39m\u001b[36m \u001b[39m\u001b[32mIn[42]\u001b[39m\u001b[32m, line 4\u001b[39m\n\u001b[32m      2\u001b[39m Set_B = {\u001b[32m8\u001b[39m,\u001b[32m6\u001b[39m,\u001b[32m7\u001b[39m,\u001b[32m9\u001b[39m,\u001b[32m10\u001b[39m,\u001b[32m11\u001b[39m,\u001b[32m12\u001b[39m}\n\u001b[32m      3\u001b[39m \u001b[38;5;28mprint\u001b[39m(\u001b[38;5;28mtype\u001b[39m(Set_A)) \n\u001b[32m----> \u001b[39m\u001b[32m4\u001b[39m \u001b[38;5;28mprint\u001b[39m(\u001b[43mSet_A\u001b[49m\u001b[43m[\u001b[49m\u001b[32;43m0\u001b[39;49m\u001b[43m]\u001b[49m)\n",
      "\u001b[31mTypeError\u001b[39m: 'set' object is not subscriptable"
     ]
    }
   ],
   "source": [
    "Set_A = {1,2,3,4,5,11,12} \n",
    "Set_B = {8,6,7,9,10,11,12}\n",
    "print(type(Set_A)) \n",
    "print(Set_A[0])"
   ]
  },
  {
   "cell_type": "code",
   "execution_count": 43,
   "id": "b506451b",
   "metadata": {},
   "outputs": [
    {
     "name": "stdout",
     "output_type": "stream",
     "text": [
      "{1, 2, 3, 4}\n"
     ]
    }
   ],
   "source": [
    "set_one = {1,1,2,3,4,4,4}\n",
    "print(set_one)"
   ]
  },
  {
   "cell_type": "code",
   "execution_count": 45,
   "id": "4fe1c051",
   "metadata": {},
   "outputs": [
    {
     "name": "stdout",
     "output_type": "stream",
     "text": [
      "{1, 2, 3, 4, 5, 6, 7}\n"
     ]
    }
   ],
   "source": [
    "set_1 = {1,2,3,4,5,6,7}\n",
    "print(set_1)\n"
   ]
  },
  {
   "cell_type": "code",
   "execution_count": 46,
   "id": "4ee193da",
   "metadata": {},
   "outputs": [
    {
     "name": "stdout",
     "output_type": "stream",
     "text": [
      "{'a': 1, 'b': 2, 'c': 3, 'd': 4}\n"
     ]
    }
   ],
   "source": [
    "list__ = [('a',1),('b',2),('c',3),('d',4)]\n",
    "dictionary_ = dict(list__)\n",
    "print(dictionary_)"
   ]
  },
  {
   "cell_type": "code",
   "execution_count": 51,
   "id": "6e1baee0",
   "metadata": {},
   "outputs": [
    {
     "name": "stdout",
     "output_type": "stream",
     "text": [
      "1\n"
     ]
    }
   ],
   "source": [
    "print(dictionary_['a'])"
   ]
  },
  {
   "cell_type": "code",
   "execution_count": 52,
   "id": "b1384073",
   "metadata": {},
   "outputs": [
    {
     "name": "stdout",
     "output_type": "stream",
     "text": [
      "5\n",
      "<class 'str'>\n"
     ]
    }
   ],
   "source": [
    "number = input(\"enter your number: \")\n",
    "print(number)\n",
    "print(type(number))"
   ]
  },
  {
   "cell_type": "code",
   "execution_count": 53,
   "id": "d88ef66f",
   "metadata": {},
   "outputs": [
    {
     "data": {
      "text/plain": [
       "2.5"
      ]
     },
     "execution_count": 53,
     "metadata": {},
     "output_type": "execute_result"
    }
   ],
   "source": [
    "5/2"
   ]
  },
  {
   "cell_type": "code",
   "execution_count": 54,
   "id": "9635fe2e",
   "metadata": {},
   "outputs": [
    {
     "data": {
      "text/plain": [
       "2"
      ]
     },
     "execution_count": 54,
     "metadata": {},
     "output_type": "execute_result"
    }
   ],
   "source": [
    "5//2"
   ]
  },
  {
   "cell_type": "code",
   "execution_count": 55,
   "id": "0ffb6260",
   "metadata": {},
   "outputs": [
    {
     "data": {
      "text/plain": [
       "True"
      ]
     },
     "execution_count": 55,
     "metadata": {},
     "output_type": "execute_result"
    }
   ],
   "source": [
    "a = 2\n",
    "b = 2\n",
    "a is b\n"
   ]
  },
  {
   "cell_type": "code",
   "execution_count": 56,
   "id": "072b0dfe",
   "metadata": {},
   "outputs": [
    {
     "data": {
      "text/plain": [
       "False"
      ]
     },
     "execution_count": 56,
     "metadata": {},
     "output_type": "execute_result"
    }
   ],
   "source": [
    "a is not b"
   ]
  },
  {
   "cell_type": "code",
   "execution_count": null,
   "id": "223ea435",
   "metadata": {},
   "outputs": [],
   "source": [
    "\n"
   ]
  },
  {
   "cell_type": "code",
   "execution_count": 60,
   "id": "df8a3860",
   "metadata": {},
   "outputs": [
    {
     "ename": "SyntaxError",
     "evalue": "cannot assign to expression here. Maybe you meant '==' instead of '='? (899217265.py, line 1)",
     "output_type": "error",
     "traceback": [
      "  \u001b[36mCell\u001b[39m\u001b[36m \u001b[39m\u001b[32mIn[60]\u001b[39m\u001b[32m, line 1\u001b[39m\n\u001b[31m    \u001b[39m\u001b[31mIs-raining = False\u001b[39m\n    ^\n\u001b[31mSyntaxError\u001b[39m\u001b[31m:\u001b[39m cannot assign to expression here. Maybe you meant '==' instead of '='?\n"
     ]
    }
   ],
   "source": [
    "Is-raining = False\n",
    "\n",
    "\n",
    "if not Is-raining :\n",
    "    print(\"it is not raining.\")"
   ]
  },
  {
   "cell_type": "code",
   "execution_count": 61,
   "id": "b57776b7",
   "metadata": {},
   "outputs": [
    {
     "name": "stdout",
     "output_type": "stream",
     "text": [
      "Odd\n"
     ]
    }
   ],
   "source": [
    "x = 5\n",
    "result = \"Even\" if x%2 == 0 else \"Odd\"\n",
    "print(result)"
   ]
  },
  {
   "cell_type": "code",
   "execution_count": 63,
   "id": "b1c82c69",
   "metadata": {},
   "outputs": [
    {
     "name": "stdout",
     "output_type": "stream",
     "text": [
      "0\n",
      "1\n",
      "3\n",
      "4\n"
     ]
    }
   ],
   "source": [
    "for i in range(5):\n",
    "    if i == 2:\n",
    "        continue\n",
    "    else:\n",
    "        print(i)"
   ]
  },
  {
   "cell_type": "code",
   "execution_count": 64,
   "id": "bb8ba917",
   "metadata": {},
   "outputs": [
    {
     "name": "stdout",
     "output_type": "stream",
     "text": [
      "0\n",
      "1\n"
     ]
    }
   ],
   "source": [
    "for i in range(5):\n",
    "    if i == 2:\n",
    "        break\n",
    "    else:\n",
    "        print(i)"
   ]
  },
  {
   "cell_type": "code",
   "execution_count": 66,
   "id": "e31fe896",
   "metadata": {},
   "outputs": [
    {
     "name": "stdout",
     "output_type": "stream",
     "text": [
      "0\n",
      "1\n",
      "3\n",
      "4\n"
     ]
    }
   ],
   "source": [
    "for i in range(5):\n",
    "    if i == 2:\n",
    "        pass\n",
    "    else:\n",
    "        print(i)"
   ]
  },
  {
   "cell_type": "code",
   "execution_count": 1,
   "id": "744fe017",
   "metadata": {},
   "outputs": [
    {
     "data": {
      "text/plain": [
       "4"
      ]
     },
     "execution_count": 1,
     "metadata": {},
     "output_type": "execute_result"
    }
   ],
   "source": [
    "round(3.5)"
   ]
  },
  {
   "cell_type": "code",
   "execution_count": 3,
   "id": "8fa3a89c",
   "metadata": {},
   "outputs": [
    {
     "name": "stdout",
     "output_type": "stream",
     "text": [
      "22\n"
     ]
    }
   ],
   "source": [
    "def f_1(n):\n",
    "    return lambda a : a * n\n",
    "f_2 = f_1(2)\n",
    "print(f_2(11))"
   ]
  },
  {
   "cell_type": "code",
   "execution_count": 4,
   "id": "015467ae",
   "metadata": {},
   "outputs": [
    {
     "name": "stdout",
     "output_type": "stream",
     "text": [
      "Hello World\n"
     ]
    }
   ],
   "source": [
    "class Student:\n",
    "    def __init__(self):\n",
    "        print(\"Hello World\")\n",
    "\n",
    "s1 = Student()"
   ]
  },
  {
   "cell_type": "code",
   "execution_count": 5,
   "id": "0eaba110",
   "metadata": {},
   "outputs": [
    {
     "name": "stdout",
     "output_type": "stream",
     "text": [
      "move from bird.\n"
     ]
    }
   ],
   "source": [
    "class Animal:\n",
    "    def move(self):\n",
    "        pass\n",
    "\n",
    "class Bird(Animal):\n",
    "    def move(self):\n",
    "        print(\"move from bird.\")\n",
    "\n",
    "class Cat(Animal):\n",
    "    def move(self):\n",
    "        print(\"move from cat.\")   \n",
    "\n",
    "a = Bird()\n",
    "a.move()"
   ]
  },
  {
   "cell_type": "code",
   "execution_count": 7,
   "id": "072ab7b3",
   "metadata": {},
   "outputs": [
    {
     "name": "stdout",
     "output_type": "stream",
     "text": [
      "7\n"
     ]
    }
   ],
   "source": [
    "class calc1:\n",
    "    def sammation(self,n1,n2):\n",
    "        return n1 + n2\n",
    "    \n",
    "    def subtraction(self,n1,n2):\n",
    "        return n1 - n2\n",
    "    \n",
    "class calc2(calc1):\n",
    "    def multiplication(self,n1,n2):\n",
    "        return n1 * n2\n",
    "    \n",
    "c = calc2()\n",
    "print(c.sammation(2,5))"
   ]
  },
  {
   "cell_type": "code",
   "execution_count": 9,
   "id": "e615c7ee",
   "metadata": {},
   "outputs": [
    {
     "name": "stdout",
     "output_type": "stream",
     "text": [
      "Iam in C\n"
     ]
    }
   ],
   "source": [
    "class A:\n",
    "    def do_this(self):\n",
    "        print(\"Iam in A\")\n",
    "\n",
    "class B(A):\n",
    "    pass\n",
    "\n",
    "class C:\n",
    "    def do_this(self):\n",
    "        print(\"Iam in C\")\n",
    "\n",
    "class D(C,B):\n",
    "    pass\n",
    "\n",
    "d = D()\n",
    "d.do_this()\n",
    "    "
   ]
  },
  {
   "cell_type": "code",
   "execution_count": null,
   "id": "60fadc7e",
   "metadata": {},
   "outputs": [],
   "source": []
  }
 ],
 "metadata": {
  "kernelspec": {
   "display_name": ".env",
   "language": "python",
   "name": "python3"
  },
  "language_info": {
   "codemirror_mode": {
    "name": "ipython",
    "version": 3
   },
   "file_extension": ".py",
   "mimetype": "text/x-python",
   "name": "python",
   "nbconvert_exporter": "python",
   "pygments_lexer": "ipython3",
   "version": "3.12.9"
  }
 },
 "nbformat": 4,
 "nbformat_minor": 5
}
