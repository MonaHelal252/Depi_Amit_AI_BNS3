{
 "cells": [
  {
   "cell_type": "code",
   "execution_count": null,
   "id": "4309d868",
   "metadata": {},
   "outputs": [],
   "source": [
    "\n"
   ]
  },
  {
   "cell_type": "code",
   "execution_count": 4,
   "id": "8ead1832",
   "metadata": {},
   "outputs": [],
   "source": [
    "s1 = Student()"
   ]
  },
  {
   "cell_type": "code",
   "execution_count": 18,
   "id": "8ecce459",
   "metadata": {},
   "outputs": [
    {
     "ename": "TypeError",
     "evalue": "Student.info() takes 0 positional arguments but 1 was given",
     "output_type": "error",
     "traceback": [
      "\u001b[31m---------------------------------------------------------------------------\u001b[39m",
      "\u001b[31mTypeError\u001b[39m                                 Traceback (most recent call last)",
      "\u001b[36mCell\u001b[39m\u001b[36m \u001b[39m\u001b[32mIn[18]\u001b[39m\u001b[32m, line 1\u001b[39m\n\u001b[32m----> \u001b[39m\u001b[32m1\u001b[39m \u001b[43ms1\u001b[49m\u001b[43m.\u001b[49m\u001b[43minfo\u001b[49m\u001b[43m(\u001b[49m\u001b[43m)\u001b[49m\n",
      "\u001b[31mTypeError\u001b[39m: Student.info() takes 0 positional arguments but 1 was given"
     ]
    }
   ],
   "source": [
    "s1.info()"
   ]
  },
  {
   "cell_type": "code",
   "execution_count": null,
   "id": "02c8769d",
   "metadata": {},
   "outputs": [
    {
     "data": {
      "text/plain": [
       "20"
      ]
     },
     "execution_count": 6,
     "metadata": {},
     "output_type": "execute_result"
    }
   ],
   "source": []
  },
  {
   "cell_type": "code",
   "execution_count": 22,
   "id": "491e2fe1",
   "metadata": {},
   "outputs": [],
   "source": [
    "class Student:\n",
    "    name = \"mona\"\n",
    "    age = 20\n",
    "    gpa = 3.5\n",
    "    gender = \"female\"\n",
    "\n",
    "    def info(self):\n",
    "        \"\"\"\n",
    "        this info() get me information about the std\n",
    "        \"\"\"\n",
    "        print(\"hello\")"
   ]
  },
  {
   "cell_type": "code",
   "execution_count": 21,
   "id": "bb89b81a",
   "metadata": {},
   "outputs": [
    {
     "name": "stdout",
     "output_type": "stream",
     "text": [
      "hello\n"
     ]
    }
   ],
   "source": [
    "s1 = Student()\n",
    "s1.info()"
   ]
  },
  {
   "cell_type": "code",
   "execution_count": 23,
   "id": "8cf7acef",
   "metadata": {},
   "outputs": [
    {
     "name": "stdout",
     "output_type": "stream",
     "text": [
      "<__main__.test object at 0x00000172A5F65340>\n",
      "<__main__.test object at 0x00000172A5F65340>\n"
     ]
    }
   ],
   "source": [
    "class test:\n",
    "    def info(self):\n",
    "        print(self)\n",
    "\n",
    "x = test()\n",
    "print(x)\n",
    "x.info()"
   ]
  },
  {
   "cell_type": "code",
   "execution_count": 24,
   "id": "5f59f901",
   "metadata": {},
   "outputs": [],
   "source": [
    "class Student:\n",
    "\n",
    "    def __init__(self , name):\n",
    "        self.name = name\n",
    "\n",
    "\n",
    "        "
   ]
  },
  {
   "cell_type": "code",
   "execution_count": 26,
   "id": "f60ff4c1",
   "metadata": {},
   "outputs": [],
   "source": [
    "s1 = Student(\"mona\")"
   ]
  },
  {
   "cell_type": "code",
   "execution_count": 30,
   "id": "01d07a1b",
   "metadata": {},
   "outputs": [],
   "source": [
    "class Calc:\n",
    "    def __init__(self , num1 , num2):\n",
    "        self.num1 = num1\n",
    "        self.num2 = num2\n",
    "\n",
    "        def addition(self):\n",
    "            return self.num1 + self.num2\n",
    "     "
   ]
  },
  {
   "cell_type": "code",
   "execution_count": 29,
   "id": "b0e88206",
   "metadata": {},
   "outputs": [
    {
     "ename": "AttributeError",
     "evalue": "'Calc' object has no attribute 'addition'",
     "output_type": "error",
     "traceback": [
      "\u001b[31m---------------------------------------------------------------------------\u001b[39m",
      "\u001b[31mAttributeError\u001b[39m                            Traceback (most recent call last)",
      "\u001b[36mCell\u001b[39m\u001b[36m \u001b[39m\u001b[32mIn[29]\u001b[39m\u001b[32m, line 2\u001b[39m\n\u001b[32m      1\u001b[39m c1 = Calc(\u001b[32m20\u001b[39m , \u001b[32m30\u001b[39m)\n\u001b[32m----> \u001b[39m\u001b[32m2\u001b[39m \u001b[43mc1\u001b[49m\u001b[43m.\u001b[49m\u001b[43maddition\u001b[49m()\n",
      "\u001b[31mAttributeError\u001b[39m: 'Calc' object has no attribute 'addition'"
     ]
    }
   ],
   "source": [
    "c1 = Calc(20 , 30)\n",
    "c1.addition()"
   ]
  },
  {
   "cell_type": "code",
   "execution_count": 31,
   "id": "d683e064",
   "metadata": {},
   "outputs": [],
   "source": [
    "class Calc:\n",
    "    def __init__(self , x , y):\n",
    "        self.x = x\n",
    "        self.y = y\n",
    "\n",
    "    def test(self , op):\n",
    "        if op == \"+\": \n",
    "         return self.x + self.y\n",
    "        elif op == \"-\":\n",
    "           return self.x - self.y\n",
    "        elif op == \"*\":\n",
    "           return self.x * self.y\n",
    "        elif op == \"/\":\n",
    "           return self.x / self.y\n",
    "        else:\n",
    "           print(\"Thank you. Goodbye\")\n",
    "        \n",
    "    "
   ]
  },
  {
   "cell_type": "code",
   "execution_count": 32,
   "id": "09165140",
   "metadata": {},
   "outputs": [],
   "source": [
    "c1 = Calc(20,30)\n"
   ]
  },
  {
   "cell_type": "code",
   "execution_count": 33,
   "id": "aef28a93",
   "metadata": {},
   "outputs": [
    {
     "data": {
      "text/plain": [
       "-10"
      ]
     },
     "execution_count": 33,
     "metadata": {},
     "output_type": "execute_result"
    }
   ],
   "source": [
    "c1.test(\"-\")"
   ]
  },
  {
   "cell_type": "code",
   "execution_count": 34,
   "id": "37cbec0c",
   "metadata": {},
   "outputs": [
    {
     "data": {
      "text/plain": [
       "600"
      ]
     },
     "execution_count": 34,
     "metadata": {},
     "output_type": "execute_result"
    }
   ],
   "source": [
    "c1.test(\"*\")"
   ]
  },
  {
   "cell_type": "code",
   "execution_count": 39,
   "id": "8e321ec3",
   "metadata": {},
   "outputs": [],
   "source": [
    "from abc import ABC, abstractmethod\n",
    "\n",
    "\n",
    "class Animal(ABC):\n",
    "    @abstractmethod\n",
    "    def move(self):\n",
    "        pass\n",
    "\n",
    "class Bird(Animal):\n",
    "    # def move(self):\n",
    "    #     print(\"move from bird\")\n",
    "     pass\n",
    "\n",
    "class Cat(Animal):\n",
    "    def move(self):\n",
    "        print(\"move from cat\")"
   ]
  },
  {
   "cell_type": "code",
   "execution_count": 40,
   "id": "338028f0",
   "metadata": {},
   "outputs": [
    {
     "ename": "TypeError",
     "evalue": "Can't instantiate abstract class Bird without an implementation for abstract method 'move'",
     "output_type": "error",
     "traceback": [
      "\u001b[31m---------------------------------------------------------------------------\u001b[39m",
      "\u001b[31mTypeError\u001b[39m                                 Traceback (most recent call last)",
      "\u001b[36mCell\u001b[39m\u001b[36m \u001b[39m\u001b[32mIn[40]\u001b[39m\u001b[32m, line 1\u001b[39m\n\u001b[32m----> \u001b[39m\u001b[32m1\u001b[39m a = \u001b[43mBird\u001b[49m\u001b[43m(\u001b[49m\u001b[43m)\u001b[49m\n\u001b[32m      2\u001b[39m a.move()\n",
      "\u001b[31mTypeError\u001b[39m: Can't instantiate abstract class Bird without an implementation for abstract method 'move'"
     ]
    }
   ],
   "source": [
    "a = Bird()\n",
    "a.move()"
   ]
  },
  {
   "cell_type": "code",
   "execution_count": 41,
   "id": "b57d1da1",
   "metadata": {},
   "outputs": [],
   "source": [
    "class car:\n",
    "  #private attribute\n",
    "    __engin_capacity = \"2000cc\"\n",
    "\n",
    "    def __start_engine(self):\n",
    "        print(\"Engine started\")"
   ]
  },
  {
   "cell_type": "code",
   "execution_count": 42,
   "id": "c03098d8",
   "metadata": {},
   "outputs": [],
   "source": [
    "c1 = car()"
   ]
  },
  {
   "cell_type": "code",
   "execution_count": 45,
   "id": "87478c1d",
   "metadata": {},
   "outputs": [
    {
     "ename": "AttributeError",
     "evalue": "'car' object has no attribute '__start_engine'",
     "output_type": "error",
     "traceback": [
      "\u001b[31m---------------------------------------------------------------------------\u001b[39m",
      "\u001b[31mAttributeError\u001b[39m                            Traceback (most recent call last)",
      "\u001b[36mCell\u001b[39m\u001b[36m \u001b[39m\u001b[32mIn[45]\u001b[39m\u001b[32m, line 1\u001b[39m\n\u001b[32m----> \u001b[39m\u001b[32m1\u001b[39m \u001b[43mc1\u001b[49m\u001b[43m.\u001b[49m\u001b[43m__start_engine\u001b[49m\n",
      "\u001b[31mAttributeError\u001b[39m: 'car' object has no attribute '__start_engine'"
     ]
    }
   ],
   "source": [
    "c1.__start_engine"
   ]
  },
  {
   "cell_type": "code",
   "execution_count": 63,
   "id": "a011f14e",
   "metadata": {},
   "outputs": [
    {
     "ename": "ImportError",
     "evalue": "cannot import name 'get_response' from 'response' (c:\\Users\\Domain\\Desktop\\New folder\\Depi_Amit_AI_BNS3\\Depi_Amit_AI_BNS3\\Sources\\oop\\response.py)",
     "output_type": "error",
     "traceback": [
      "\u001b[31m---------------------------------------------------------------------------\u001b[39m",
      "\u001b[31mImportError\u001b[39m                               Traceback (most recent call last)",
      "\u001b[36mCell\u001b[39m\u001b[36m \u001b[39m\u001b[32mIn[63]\u001b[39m\u001b[32m, line 3\u001b[39m\n\u001b[32m      1\u001b[39m \u001b[38;5;28;01mimport\u001b[39;00m\u001b[38;5;250m \u001b[39m\u001b[34;01mrandom\u001b[39;00m\n\u001b[32m      2\u001b[39m \u001b[38;5;28;01mimport\u001b[39;00m\u001b[38;5;250m \u001b[39m\u001b[34;01mjson\u001b[39;00m\n\u001b[32m----> \u001b[39m\u001b[32m3\u001b[39m \u001b[38;5;28;01mfrom\u001b[39;00m\u001b[38;5;250m \u001b[39m\u001b[34;01mresponse\u001b[39;00m\u001b[38;5;250m \u001b[39m\u001b[38;5;28;01mimport\u001b[39;00m get_response\n\u001b[32m      4\u001b[39m \u001b[38;5;28;01mwith\u001b[39;00m \u001b[38;5;28mopen\u001b[39m(\u001b[33m\"\u001b[39m\u001b[33mC:/Users/Domain/Desktop/New folder/Depi_Amit_AI_BNS3/Depi_Amit_AI_BNS3/Sources/oop/response.py\u001b[39m\u001b[33m\"\u001b[39m,\u001b[33m\"\u001b[39m\u001b[33mr\u001b[39m\u001b[33m\"\u001b[39m) \u001b[38;5;28;01mas\u001b[39;00m file:\n\u001b[32m      5\u001b[39m     responses = json.load(file)\n",
      "\u001b[31mImportError\u001b[39m: cannot import name 'get_response' from 'response' (c:\\Users\\Domain\\Desktop\\New folder\\Depi_Amit_AI_BNS3\\Depi_Amit_AI_BNS3\\Sources\\oop\\response.py)"
     ]
    }
   ],
   "source": [
    "import random\n",
    "import json\n",
    "from response import get_response\n",
    "with open(\"C:/Users/Domain/Desktop/New folder/Depi_Amit_AI_BNS3/Depi_Amit_AI_BNS3/Sources/oop/response.py\",\"r\") as file:\n",
    "    responses = json.load(file)\n",
    " \n"
   ]
  },
  {
   "cell_type": "code",
   "execution_count": null,
   "id": "09e79de4",
   "metadata": {},
   "outputs": [
    {
     "ename": "ImportError",
     "evalue": "cannot import name 'get_response' from 'response' (c:\\Users\\Domain\\Desktop\\New folder\\Depi_Amit_AI_BNS3\\Depi_Amit_AI_BNS3\\Sources\\oop\\response.py)",
     "output_type": "error",
     "traceback": [
      "\u001b[31m---------------------------------------------------------------------------\u001b[39m",
      "\u001b[31mImportError\u001b[39m                               Traceback (most recent call last)",
      "\u001b[36mCell\u001b[39m\u001b[36m \u001b[39m\u001b[32mIn[52]\u001b[39m\u001b[32m, line 3\u001b[39m\n\u001b[32m      1\u001b[39m \u001b[38;5;28;01mimport\u001b[39;00m\u001b[38;5;250m \u001b[39m\u001b[34;01mrandom\u001b[39;00m\n\u001b[32m      2\u001b[39m \u001b[38;5;28;01mimport\u001b[39;00m\u001b[38;5;250m \u001b[39m\u001b[34;01mjson\u001b[39;00m\n\u001b[32m----> \u001b[39m\u001b[32m3\u001b[39m \u001b[38;5;28;01mfrom\u001b[39;00m\u001b[38;5;250m \u001b[39m\u001b[34;01mresponse\u001b[39;00m\u001b[38;5;250m \u001b[39m\u001b[38;5;28;01mimport\u001b[39;00m get_response\n\u001b[32m      4\u001b[39m \u001b[38;5;28;01mwith\u001b[39;00m \u001b[38;5;28mopen\u001b[39m(\u001b[33m\"\u001b[39m\u001b[33mC:/Users/Domain/Desktop/New folder/Depi_Amit_AI_BNS3/Depi_Amit_AI_BNS3/Sources/oop/chatbot.json\u001b[39m\u001b[33m\"\u001b[39m,\u001b[33m\"\u001b[39m\u001b[33mr\u001b[39m\u001b[33m\"\u001b[39m) \u001b[38;5;28;01mas\u001b[39;00m file:\n\u001b[32m      5\u001b[39m     responses = json.load(file)\n",
      "\u001b[31mImportError\u001b[39m: cannot import name 'get_response' from 'response' (c:\\Users\\Domain\\Desktop\\New folder\\Depi_Amit_AI_BNS3\\Depi_Amit_AI_BNS3\\Sources\\oop\\response.py)"
     ]
    }
   ],
   "source": []
  },
  {
   "cell_type": "code",
   "execution_count": null,
   "id": "3585e64d",
   "metadata": {},
   "outputs": [],
   "source": []
  }
 ],
 "metadata": {
  "kernelspec": {
   "display_name": ".env",
   "language": "python",
   "name": "python3"
  },
  "language_info": {
   "codemirror_mode": {
    "name": "ipython",
    "version": 3
   },
   "file_extension": ".py",
   "mimetype": "text/x-python",
   "name": "python",
   "nbconvert_exporter": "python",
   "pygments_lexer": "ipython3",
   "version": "3.12.9"
  }
 },
 "nbformat": 4,
 "nbformat_minor": 5
}
