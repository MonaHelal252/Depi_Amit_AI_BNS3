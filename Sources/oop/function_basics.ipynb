{
 "cells": [
  {
   "cell_type": "code",
   "execution_count": 1,
   "id": "183bc29e",
   "metadata": {},
   "outputs": [],
   "source": [
    "def std_info(*name):\n",
    "    print( f\"my name is{name}\")"
   ]
  },
  {
   "cell_type": "code",
   "execution_count": 2,
   "id": "2218d882",
   "metadata": {},
   "outputs": [
    {
     "name": "stdout",
     "output_type": "stream",
     "text": [
      "my name is('mona', 'aya', 'sama')\n"
     ]
    }
   ],
   "source": [
    "std_info(\"mona\" , \"aya\" , \"sama\")"
   ]
  },
  {
   "cell_type": "code",
   "execution_count": 4,
   "id": "2264ea67",
   "metadata": {},
   "outputs": [],
   "source": [
    "def fun_1 (n):\n",
    "   return lambda a : a*n\n"
   ]
  },
  {
   "cell_type": "code",
   "execution_count": 5,
   "id": "f61f058f",
   "metadata": {},
   "outputs": [
    {
     "data": {
      "text/plain": [
       "22"
      ]
     },
     "execution_count": 5,
     "metadata": {},
     "output_type": "execute_result"
    }
   ],
   "source": [
    "fun_2 = fun_1(2)\n",
    "fun_2(11)"
   ]
  },
  {
   "cell_type": "code",
   "execution_count": 10,
   "id": "dcdde8f7",
   "metadata": {},
   "outputs": [
    {
     "data": {
      "text/plain": [
       "0.366186253585256"
      ]
     },
     "execution_count": 10,
     "metadata": {},
     "output_type": "execute_result"
    }
   ],
   "source": [
    "import random\n",
    "n = random.random()\n",
    "\n",
    "def calc_degree(n):\n",
    "    return n*n\n",
    "\n",
    "calc_degree(n)"
   ]
  },
  {
   "cell_type": "code",
   "execution_count": 11,
   "id": "2dc3cb62",
   "metadata": {},
   "outputs": [],
   "source": [
    "import os"
   ]
  },
  {
   "cell_type": "code",
   "execution_count": 13,
   "id": "fcef4a1c",
   "metadata": {},
   "outputs": [],
   "source": [
    "file = os.listdir('C:/Users/Domain/Desktop/New folder/Depi_Amit_AI_BNS3/Depi_Amit_AI_BNS3/Sources/oop')"
   ]
  },
  {
   "cell_type": "code",
   "execution_count": 14,
   "id": "e4d9426f",
   "metadata": {},
   "outputs": [
    {
     "name": "stdout",
     "output_type": "stream",
     "text": [
      "['function_basics.ipynb']\n"
     ]
    }
   ],
   "source": [
    "print(file)"
   ]
  },
  {
   "cell_type": "code",
   "execution_count": 15,
   "id": "93fa88c9",
   "metadata": {},
   "outputs": [
    {
     "data": {
      "text/plain": [
       "'C:/Users/Domain/Desktop/New folder/Depi_Amit_AI_BNS3/Depi_Amit_AI_BNS3/Sources/Env_Setup/basic_python/tttt.txt'"
      ]
     },
     "execution_count": 15,
     "metadata": {},
     "output_type": "execute_result"
    }
   ],
   "source": [
    "base_dir = \"C:/Users/Domain/Desktop/New folder/Depi_Amit_AI_BNS3/Depi_Amit_AI_BNS3/Sources/Env_Setup/basic_python\"\n",
    "file_name = \"C:/Users/Domain/Desktop/New folder/Depi_Amit_AI_BNS3/Depi_Amit_AI_BNS3/Sources/Env_Setup/basic_python/tttt.txt\"\n",
    "file_root_path = os.path.join(base_dir , file_name)\n",
    "file_root_path"
   ]
  },
  {
   "cell_type": "code",
   "execution_count": 16,
   "id": "dc87b949",
   "metadata": {},
   "outputs": [],
   "source": [
    "os.remove(file_root_path)"
   ]
  },
  {
   "cell_type": "code",
   "execution_count": 17,
   "id": "5c8663d6",
   "metadata": {},
   "outputs": [],
   "source": [
    "import os"
   ]
  },
  {
   "cell_type": "code",
   "execution_count": 18,
   "id": "cc3c1aa6",
   "metadata": {},
   "outputs": [
    {
     "name": "stdout",
     "output_type": "stream",
     "text": [
      "Directory is already exists C:/Users/Domain/Desktop/New folder/Depi_Amit_AI_BNS3/Depi_Amit_AI_BNS3/Sources/Env_Setup/basic_python\n"
     ]
    }
   ],
   "source": [
    "dir_1 = \"C:/Users/Domain/Desktop/New folder/Depi_Amit_AI_BNS3/Depi_Amit_AI_BNS3/Sources/Env_Setup/basic_python\"\n",
    "if not os.path.exists(dir_1):\n",
    "    os.makedirs(dir_1)\n",
    "else:\n",
    "    print(\"Directory is already exists\" , dir_1)"
   ]
  },
  {
   "cell_type": "code",
   "execution_count": 27,
   "id": "f32b4a81",
   "metadata": {},
   "outputs": [],
   "source": [
    "import os\n",
    "path = \"C:/Users/Domain/Desktop/New folder/Depi_Amit_AI_BNS3/Depi_Amit_AI_BNS3/Sources\"\n",
    "if not os.path.exists(path):\n",
    "    os.makedirs(path)\n",
    "\n",
    "for i in range (25):\n",
    "    inner_path = os.path.join(path , \"dir_\"+str(i))\n",
    "    if not os.path.exists(inner_path):\n",
    "        os.makedirs(inner_path)"
   ]
  },
  {
   "cell_type": "code",
   "execution_count": 40,
   "id": "4c11c686",
   "metadata": {},
   "outputs": [],
   "source": [
    "from math import factorial"
   ]
  },
  {
   "cell_type": "code",
   "execution_count": 41,
   "id": "f5f07b44",
   "metadata": {},
   "outputs": [
    {
     "data": {
      "text/plain": [
       "120"
      ]
     },
     "execution_count": 41,
     "metadata": {},
     "output_type": "execute_result"
    }
   ],
   "source": [
    "factorial(5)"
   ]
  },
  {
   "cell_type": "code",
   "execution_count": 47,
   "id": "112f6010",
   "metadata": {},
   "outputs": [],
   "source": [
    "import random\n",
    "def generate_password(length):\n",
    "  characters =\"qewyikmckldnqwertyuoiplkjhgfdaxcvbnm4125879864kf\"\n",
    "  password = \"\"\n",
    "  for _ in range(length):\n",
    "    password += random.choice(characters)\n",
    "\n",
    "  return password\n"
   ]
  },
  {
   "cell_type": "code",
   "execution_count": 48,
   "id": "a876be7c",
   "metadata": {},
   "outputs": [
    {
     "data": {
      "text/plain": [
       "'4nkny6qv'"
      ]
     },
     "execution_count": 48,
     "metadata": {},
     "output_type": "execute_result"
    }
   ],
   "source": [
    "generate_password(8)"
   ]
  },
  {
   "cell_type": "code",
   "execution_count": null,
   "id": "e1d872e0",
   "metadata": {},
   "outputs": [],
   "source": []
  }
 ],
 "metadata": {
  "kernelspec": {
   "display_name": ".env",
   "language": "python",
   "name": "python3"
  },
  "language_info": {
   "codemirror_mode": {
    "name": "ipython",
    "version": 3
   },
   "file_extension": ".py",
   "mimetype": "text/x-python",
   "name": "python",
   "nbconvert_exporter": "python",
   "pygments_lexer": "ipython3",
   "version": "3.12.9"
  }
 },
 "nbformat": 4,
 "nbformat_minor": 5
}
