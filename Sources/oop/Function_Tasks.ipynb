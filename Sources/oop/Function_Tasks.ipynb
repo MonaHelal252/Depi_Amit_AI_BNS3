{
 "cells": [
  {
   "cell_type": "code",
   "execution_count": 1,
   "id": "415f95dc",
   "metadata": {},
   "outputs": [],
   "source": [
    "def mul_table(num):\n",
    "    \"\"\"\n",
    "    this function takes any number \n",
    "    and print its multiplication table\n",
    "    \"\"\"\n",
    "    for i in range(11):\n",
    "        print(num , \" * \" , str(i) , \" = \" , num * i)"
   ]
  },
  {
   "cell_type": "code",
   "execution_count": 2,
   "id": "7ddcd80a",
   "metadata": {},
   "outputs": [
    {
     "name": "stdout",
     "output_type": "stream",
     "text": [
      "8  *  0  =  0\n",
      "8  *  1  =  8\n",
      "8  *  2  =  16\n",
      "8  *  3  =  24\n",
      "8  *  4  =  32\n",
      "8  *  5  =  40\n",
      "8  *  6  =  48\n",
      "8  *  7  =  56\n",
      "8  *  8  =  64\n",
      "8  *  9  =  72\n",
      "8  *  10  =  80\n"
     ]
    }
   ],
   "source": [
    "mul_table(8)"
   ]
  },
  {
   "cell_type": "code",
   "execution_count": 3,
   "id": "c02f3563",
   "metadata": {},
   "outputs": [
    {
     "name": "stdout",
     "output_type": "stream",
     "text": [
      "Twin primes\n",
      "3  and  5\n",
      "5  and  7\n",
      "11  and  13\n",
      "17  and  19\n",
      "29  and  31\n",
      "41  and  43\n",
      "59  and  61\n",
      "71  and  73\n",
      "101  and  103\n",
      "107  and  109\n",
      "137  and  139\n",
      "149  and  151\n",
      "179  and  181\n",
      "191  and  193\n",
      "197  and  199\n",
      "227  and  229\n",
      "239  and  241\n",
      "269  and  271\n",
      "281  and  283\n",
      "311  and  313\n",
      "347  and  349\n",
      "419  and  421\n",
      "431  and  433\n",
      "461  and  463\n",
      "521  and  523\n",
      "569  and  571\n",
      "599  and  601\n",
      "617  and  619\n",
      "641  and  643\n",
      "659  and  661\n",
      "809  and  811\n",
      "821  and  823\n",
      "827  and  829\n",
      "857  and  859\n",
      "881  and  883\n"
     ]
    }
   ],
   "source": [
    "from math import sqrt\n",
    "def Is_prime(num):\n",
    "    \"\"\"\n",
    "    this function takes num as an argument,\n",
    "    check if the number is prime or not \n",
    "    and return yes if the number is prime, \n",
    "    after that it prints twin primes.\n",
    "    Note : twin primes are any two prime numbers \n",
    "    the difference between them is 2\n",
    "    \"\"\"\n",
    "    is_prime = True\n",
    "    if num < 2:\n",
    "       is_prime = False\n",
    "    for i in range(2 , int(sqrt(num)) + 1):\n",
    "            if num % i == 0:\n",
    "                is_prime = False\n",
    "                break\n",
    "    return is_prime\n",
    "print(\"Twin primes\")\n",
    "for num in range(1 , 1000):\n",
    "    if Is_prime(num) and Is_prime(num + 2):\n",
    "        print(num , \" and \" , num + 2)"
   ]
  },
  {
   "cell_type": "code",
   "execution_count": 4,
   "id": "7f8bf132",
   "metadata": {},
   "outputs": [],
   "source": [
    "          \n",
    "def Prime_Factor(x):\n",
    "    \"\"\"\n",
    "    this function takes an argument x that  \n",
    "    refer any number we pass to the function\n",
    "    and result out its prime_factor\n",
    "    Note : prime factors are the numbers\n",
    "    that there multiplication equal to \n",
    "    input number\n",
    "    \n",
    "    \"\"\"\n",
    "    result = 0\n",
    "    while result != 1:\n",
    "        for i in range(2 , x + 1):\n",
    "         if Is_prime(i) and x % i == 0:\n",
    "            print (i)\n",
    "            result = x // i\n",
    "            x = result"
   ]
  },
  {
   "cell_type": "code",
   "execution_count": 5,
   "id": "5e78d00f",
   "metadata": {},
   "outputs": [
    {
     "name": "stdout",
     "output_type": "stream",
     "text": [
      "2\n",
      "3\n",
      "5\n",
      "2\n"
     ]
    }
   ],
   "source": [
    "Prime_Factor(60)"
   ]
  },
  {
   "cell_type": "code",
   "execution_count": 6,
   "id": "30fe5401",
   "metadata": {},
   "outputs": [],
   "source": [
    "\n",
    "def prime_factor(x):\n",
    "    \"\"\"\n",
    "    Another way to the prime factor function\n",
    "    \"\"\"\n",
    "    i = 2\n",
    "    while x > 1:\n",
    "        if Is_prime(i) and x % i == 0:\n",
    "            print (i)\n",
    "            x = x // i\n",
    "        else:\n",
    "           i += 1"
   ]
  },
  {
   "cell_type": "code",
   "execution_count": 7,
   "id": "502ce114",
   "metadata": {},
   "outputs": [
    {
     "name": "stdout",
     "output_type": "stream",
     "text": [
      "2\n",
      "2\n",
      "3\n",
      "5\n"
     ]
    }
   ],
   "source": [
    "prime_factor(60)"
   ]
  },
  {
   "cell_type": "code",
   "execution_count": 8,
   "id": "b47b66c9",
   "metadata": {},
   "outputs": [],
   "source": [
    "\n",
    "def Dec_to_Bin(number : float):\n",
    "    \"\"\"\n",
    "    this function takes a Decimal number\n",
    "    and return it to a binary number\n",
    "    it returns the int part firstly,\n",
    "    After that,return the float part\n",
    "    \"\"\"\n",
    "    list_1 =[]\n",
    "    list_2 = []\n",
    "    result = int(number)//2 \n",
    "    mod = int(number) % 2\n",
    "    # print(mod) \n",
    "    list_1.append(mod)\n",
    "    while result != 0:\n",
    "        mod = result % 2\n",
    "        # print(mod)\n",
    "        list_1.append(mod)\n",
    "        result = result // 2\n",
    "    \n",
    "    dec_part = number - int(number)\n",
    "    while dec_part != 0: \n",
    "        x = dec_part * 2\n",
    "        y = int(x)\n",
    "        # print(y)\n",
    "        list_2.append(y)\n",
    "        z = x - y\n",
    "        dec_part = z\n",
    "    \n",
    "    list_1 = list_1[ : : -1]\n",
    "    list_1.extend(list_2)\n",
    "    print(list_1)\n",
    "    \n",
    "    \n",
    "      \n",
    "   \n",
    "       "
   ]
  },
  {
   "cell_type": "code",
   "execution_count": 9,
   "id": "1e4f9220",
   "metadata": {},
   "outputs": [
    {
     "name": "stdout",
     "output_type": "stream",
     "text": [
      "[1, 0, 1]\n"
     ]
    }
   ],
   "source": [
    "Dec_to_Bin(5)"
   ]
  },
  {
   "cell_type": "code",
   "execution_count": 10,
   "id": "966499ce",
   "metadata": {},
   "outputs": [],
   "source": [
    "def Perfect_Number(f_num , l_num):\n",
    "    \"\"\"\n",
    "    this function print perfect numbers\n",
    "    in the range of f_num and l_num\n",
    "    Note : perfect number is the number \n",
    "    that its divisors equal to it\n",
    "    without it itself\n",
    "    \"\"\"\n",
    "    for num in range(f_num , l_num + 1 , 1):\n",
    "        res = 0\n",
    "        for i in range(1 , num):\n",
    "            if num % i == 0:\n",
    "                res += i\n",
    "        if res == num:\n",
    "            print(num)"
   ]
  },
  {
   "cell_type": "code",
   "execution_count": 11,
   "id": "399ab8ec",
   "metadata": {},
   "outputs": [
    {
     "name": "stdout",
     "output_type": "stream",
     "text": [
      "0\n",
      "6\n",
      "28\n",
      "496\n"
     ]
    }
   ],
   "source": [
    "Perfect_Number(0,1000)"
   ]
  },
  {
   "cell_type": "code",
   "execution_count": null,
   "id": "8efcec2b",
   "metadata": {},
   "outputs": [],
   "source": []
  }
 ],
 "metadata": {
  "kernelspec": {
   "display_name": ".env",
   "language": "python",
   "name": "python3"
  },
  "language_info": {
   "codemirror_mode": {
    "name": "ipython",
    "version": 3
   },
   "file_extension": ".py",
   "mimetype": "text/x-python",
   "name": "python",
   "nbconvert_exporter": "python",
   "pygments_lexer": "ipython3",
   "version": "3.12.9"
  }
 },
 "nbformat": 4,
 "nbformat_minor": 5
}
