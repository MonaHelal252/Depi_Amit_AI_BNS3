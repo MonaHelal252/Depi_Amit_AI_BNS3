{
 "cells": [
  {
   "cell_type": "code",
   "execution_count": null,
   "id": "dec5d312",
   "metadata": {},
   "outputs": [],
   "source": []
  },
  {
   "cell_type": "code",
   "execution_count": 36,
   "id": "0e0b5082",
   "metadata": {},
   "outputs": [
    {
     "name": "stdout",
     "output_type": "stream",
     "text": [
      "Welcome to a simple calculator\n",
      "Choose number of one operation from these \n",
      "1- Addition \n",
      " 2- Subtraction\n",
      " 3- Multiplication\n",
      " 4- Division\n",
      " 5- Exit\n",
      "The result of Adding of  5.0  and  6.0  is  11.0\n",
      "The result of Multiplication of   8.0  and  6.0  is  48.0\n",
      "Invalid operation\n",
      "Thank you. Goodbye!\n"
     ]
    }
   ],
   "source": [
    "print(\"Welcome to a simple calculator\")\n",
    "print(\"Choose number of one operation from these \")\n",
    "print(\"1- Addition \\n\",\n",
    "      \"2- Subtraction\\n\" ,\n",
    "      \"3- Multiplication\\n\",\n",
    "      \"4- Division\\n\",\n",
    "      \"5- Exit\")\n",
    "while True:\n",
    " operation = int(input(\"Enter your choice : \"))\n",
    " if operation == 1:\n",
    "    x = float(input(\"Enter first number : \"))\n",
    "    y = float(input(\"Enter second number : \"))\n",
    "    print(\"The result of Adding of \" , x , \" and \" , y ,\" is \" , x + y)\n",
    "\n",
    " elif operation == 2:\n",
    "    x = float(input(\"Enter first number : \"))\n",
    "    y = float(input(\"Enter second number : \"))\n",
    "    print(\"The result of Subtraction of \" , x , \" and \" , y ,\" is \" , x - y)\n",
    "\n",
    " elif operation == 3:\n",
    "    x = float(input(\"Enter first number : \"))\n",
    "    y = float(input(\"Enter second number : \"))\n",
    "    print(\"The result of Multiplication of  \" , x , \" and \" , y ,\" is \" , x * y)\n",
    "\n",
    " elif operation == 4:\n",
    "    x = float(input(\"Enter first number : \"))\n",
    "    y = float(input(\"Enter second number : \"))\n",
    "    if y == 0:\n",
    "        print(\"Division by zero is not accepted\")\n",
    "        y = float(input(\"Enter another number : \"))\n",
    "    print(\"The result of Divsion of \" , x , \" and \" , y ,\" is \" , x / y)\n",
    "\n",
    " elif operation == 5:\n",
    "    print(\"Thank you. Goodbye!\")\n",
    "\n",
    " else:\n",
    "    print(\"Invalid operation\")\n",
    "\n",
    " Ques = input(\"Do you want to calculate again : \")\n",
    " if Ques != \"yes\":\n",
    "     print(\"Thank you. Goodbye!\")\n",
    "     break\n",
    "    \n",
    "\n",
    "\n",
    "   "
   ]
  },
  {
   "cell_type": "code",
   "execution_count": null,
   "id": "d9dacd58",
   "metadata": {},
   "outputs": [],
   "source": []
  },
  {
   "cell_type": "code",
   "execution_count": null,
   "id": "fed6b8a9",
   "metadata": {},
   "outputs": [],
   "source": []
  }
 ],
 "metadata": {
  "kernelspec": {
   "display_name": ".env",
   "language": "python",
   "name": "python3"
  },
  "language_info": {
   "codemirror_mode": {
    "name": "ipython",
    "version": 3
   },
   "file_extension": ".py",
   "mimetype": "text/x-python",
   "name": "python",
   "nbconvert_exporter": "python",
   "pygments_lexer": "ipython3",
   "version": "3.12.9"
  }
 },
 "nbformat": 4,
 "nbformat_minor": 5
}
