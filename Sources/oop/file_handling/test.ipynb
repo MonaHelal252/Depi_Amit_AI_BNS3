{
 "cells": [
  {
   "cell_type": "code",
   "execution_count": 32,
   "id": "799ac905",
   "metadata": {},
   "outputs": [],
   "source": [
    "\"\"\"\n",
    "doc.........\n",
    "\n",
    "\"\"\"\n",
    "\n",
    "\n",
    "\n",
    "class Student:\n",
    "    _id_counter = 1\n",
    "\n",
    "    def __init__(self , name):\n",
    "        self.name = name\n",
    "        Student._id_counter +=1\n",
    "        self.student_id = Student._id_counter\n",
    "        self.grades = {}\n",
    "        self.enrolled_courses = []\n",
    "\n",
    "    # def __str__(self):\n",
    "    #     return f\"Student ID: {self.student_id}, Name : {self.name} , Grades : {self.grades}\"\n",
    "\n",
    "    def __repr__(self):\n",
    "        return f\"Student ID: {self.student_id}, Name : {self.name} , Grades : {self.grades}\"\n",
    "    \n",
    "    def info (self):\n",
    "        return self.name\n",
    "    \n",
    "    def add_grade(self , course_id , grade):\n",
    "        self.grades [course_id] = grade\n",
    "\n",
    "    def enrolled_in_course(self , course):\n",
    "        self.enrolled_courses.append(course)\n",
    "\n",
    "  \n",
    "       "
   ]
  },
  {
   "cell_type": "code",
   "execution_count": 34,
   "id": "78ccd9ba",
   "metadata": {},
   "outputs": [
    {
     "data": {
      "text/plain": [
       "'Student ID: 3, Name : mona , Grades : {2: 20}'"
      ]
     },
     "execution_count": 34,
     "metadata": {},
     "output_type": "execute_result"
    }
   ],
   "source": [
    "\n",
    "s1 = Student(\"mona\")\n",
    "s1.add_grade(2,20)\n",
    "s1.enrolled_in_course(\"DS\")\n",
    "str(s1)"
   ]
  },
  {
   "cell_type": "code",
   "execution_count": 50,
   "id": "938c324e",
   "metadata": {},
   "outputs": [],
   "source": [
    "\n",
    "class Course:\n",
    "    _id_counter = 1\n",
    "\n",
    "    def __init__(self , name):\n",
    "        self.course_id = Course._id_counter\n",
    "        Course._id_counter +=1\n",
    "\n",
    "        self.name = name\n",
    "        self.enrolled_students = [] \n",
    "\n",
    "    def __str__(self):\n",
    "         return f\"Course ID: {self.course_id}, Name : {self.name} , Enrolled : {len(self.enrolled_students)}\"\n",
    "    \n",
    "    def enroll_student(self , student):\n",
    "        if student not in self.enrolled_students:\n",
    "            self.enrolled_students.append(student)\n",
    "            print(\"student enrolled successfully\")\n",
    "        else:\n",
    "            print(\"student enrolled already\")\n",
    "\n",
    "    def remove_student(self , student):\n",
    "        for course in self.Courses.values():\n",
    "            if student in course.enrolled_students:\n",
    "                course.enrolled_students.remove(student)"
   ]
  },
  {
   "cell_type": "code",
   "execution_count": 51,
   "id": "f21ed883",
   "metadata": {},
   "outputs": [
    {
     "data": {
      "text/plain": [
       "'Course ID: 1, Name : DS , Enrolled : 0'"
      ]
     },
     "execution_count": 51,
     "metadata": {},
     "output_type": "execute_result"
    }
   ],
   "source": [
    "c1 = Course(\"DS\")\n",
    "str(c1)"
   ]
  },
  {
   "cell_type": "code",
   "execution_count": null,
   "id": "e1b2c511",
   "metadata": {},
   "outputs": [],
   "source": [
    "class SystemManager:\n",
    "\n",
    "    def __init__(self):\n",
    "        self.students = {}\n",
    "        self.courses = {}\n",
    "\n",
    "    def add_student(self , name):\n",
    "        student = Student(name)\n",
    "        self.students(name)\n",
    "        self.students[student.student_id]\n",
    "        print(\"student added successfully\")\n",
    "        return student.student_id\n",
    "    \n",
    "    def remove_student(self , student_id):\n",
    "        if student_id in self.students:\n",
    "            student = self.students[student_id]\n",
    "            if not student.enrolled_courses:\n",
    "                del self.students[student_id]\n",
    "                print(\"student removed successfully\")\n",
    "            else:\n",
    "                print(\"student has enrolled course. cannot remove\")\n",
    "\n",
    "        else:\n",
    "            print(\"invalid student id\")\n",
    "\n",
    "    def enrolle_course(self , student_id , course_id):\n",
    "        if student_id in self.students and course_id in self.courses:\n",
    "            student = self.students[student_id]\n",
    "            course = self.courses[course_id]\n",
    "\n",
    "            if course.name not in student.enrolled_courses:\n",
    "                student.enroll_in_course(course.name)\n",
    "                course.enroll_student(student.name)\n",
    "                print(\"student enrolled in course successfully.\")\n",
    "            else:\n",
    "                print(\"student is already enrolled in the course.\")\n",
    "        else:\n",
    "            print(\"Invalid student or course ID.\")\n",
    "    \n",
    "    def record_grade(self,student_id, course_id,grade):\n",
    "        if student_id in self.students and course_id in self.courses:\n",
    "            student = self.students[student_id]\n",
    "            course = self.courses[course_id]\n",
    "            student.add_grades(course.name , grade)\n",
    "            print(\"Grade recorded successfully.\")\n",
    "\n",
    "        else:\n",
    "            print(\"Invalid student ID or course ID\")\n",
    "\n",
    "    def get_all_students(self):\n",
    "        return list(self.students.values)\n",
    "    \n",
    "    def get_all_courses(self):\n",
    "        return list(self.courses.values)\n",
    "    "
   ]
  },
  {
   "cell_type": "code",
   "execution_count": null,
   "id": "7ea6e095",
   "metadata": {},
   "outputs": [],
   "source": []
  }
 ],
 "metadata": {
  "kernelspec": {
   "display_name": ".env",
   "language": "python",
   "name": "python3"
  },
  "language_info": {
   "codemirror_mode": {
    "name": "ipython",
    "version": 3
   },
   "file_extension": ".py",
   "mimetype": "text/x-python",
   "name": "python",
   "nbconvert_exporter": "python",
   "pygments_lexer": "ipython3",
   "version": "3.12.9"
  }
 },
 "nbformat": 4,
 "nbformat_minor": 5
}
