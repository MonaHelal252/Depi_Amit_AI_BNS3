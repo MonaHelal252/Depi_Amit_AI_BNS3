{
 "cells": [
  {
   "cell_type": "code",
   "execution_count": 16,
   "id": "ac9ce64e",
   "metadata": {},
   "outputs": [],
   "source": [
    "import os \n",
    "import sys\n",
    "import random"
   ]
  },
  {
   "cell_type": "code",
   "execution_count": 2,
   "id": "48d65a30",
   "metadata": {},
   "outputs": [],
   "source": [
    "def open_file():\n",
    " file = open(\"C:/Users/Domain/Desktop/New folder/Depi_Amit_AI_BNS3/Depi_Amit_AI_BNS3/Sources/oop/file_handling/textt.txt\" , \"r\")\n",
    " \"\"\"\n",
    " this function open file and read its content\n",
    " \"\"\"\n",
    " print(file.read())\n",
    " file.close()"
   ]
  },
  {
   "cell_type": "code",
   "execution_count": 3,
   "id": "05bdc314",
   "metadata": {},
   "outputs": [
    {
     "name": "stdout",
     "output_type": "stream",
     "text": [
      "My name is mona\n",
      "My age is 20\n",
      "Iam a student\n"
     ]
    }
   ],
   "source": [
    "open_file()"
   ]
  },
  {
   "cell_type": "code",
   "execution_count": 76,
   "id": "ca749935",
   "metadata": {},
   "outputs": [],
   "source": [
    "def create_files():\n",
    " path = \"C:/Users/Domain/Desktop/New folder/Depi_Amit_AI_BNS3/Depi_Amit_AI_BNS3/Sources/oop/file_handling\"\n",
    " if not os.path.exists(path):\n",
    "     os.makedirs(path)\n",
    " \"\"\"\n",
    " this function creates 30 files within the folder\n",
    " \"\"\"\n",
    " for i in range (30):\n",
    "     local_path = os.path.join(path , \"dir_\" + str(i))\n",
    "     if not os.path.exists(local_path):\n",
    "      os.makedirs(local_path)"
   ]
  },
  {
   "cell_type": "code",
   "execution_count": 77,
   "id": "57cac016",
   "metadata": {},
   "outputs": [],
   "source": [
    "create_files()"
   ]
  },
  {
   "cell_type": "code",
   "execution_count": 78,
   "id": "74d7b385",
   "metadata": {},
   "outputs": [],
   "source": [
    "def files_number():\n",
    " \"\"\"\n",
    " this function count the number of files within the folder before deleting\n",
    " \"\"\"\n",
    " all_files = os.listdir(\"C:/Users/Domain/Desktop/New folder/Depi_Amit_AI_BNS3/Depi_Amit_AI_BNS3/Sources/oop/file_handling\")\n",
    " print(\"length of files before deletion = \",len(all_files))"
   ]
  },
  {
   "cell_type": "code",
   "execution_count": 79,
   "id": "3dbf866f",
   "metadata": {},
   "outputs": [
    {
     "name": "stdout",
     "output_type": "stream",
     "text": [
      "length of files before deletion =  31\n"
     ]
    }
   ],
   "source": [
    "files_number()"
   ]
  },
  {
   "cell_type": "code",
   "execution_count": 80,
   "id": "f68c9812",
   "metadata": {},
   "outputs": [],
   "source": [
    "\n",
    "def removing():\n",
    " import shutil\n",
    " all_files = os.listdir(\"C:/Users/Domain/Desktop/New folder/Depi_Amit_AI_BNS3/Depi_Amit_AI_BNS3/Sources/oop/file_handling\")\n",
    " deleted_files = random.sample(all_files , len(all_files)//2)\n",
    " base_dir = \"C:/Users/Domain/Desktop/New folder/Depi_Amit_AI_BNS3/Depi_Amit_AI_BNS3/Sources/oop/file_handling\"\n",
    " for file in deleted_files:\n",
    "     file_root_path = os.path.join(base_dir , file)\n",
    "     \"\"\"\n",
    "     this function deletes hahf number of files of the folder randomly\n",
    "     \"\"\"\n",
    "    \n",
    "     if os.path.isfile(file_root_path):\n",
    "         os.remove(file_root_path)\n",
    "       \n",
    "\n",
    "     elif os.path.isdir(file_root_path):\n",
    "         shutil.rmtree(file_root_path)\n",
    "        \n",
    "\n",
    "     else:\n",
    "         print(f\"Not found\")"
   ]
  },
  {
   "cell_type": "code",
   "execution_count": 81,
   "id": "76b3f55d",
   "metadata": {},
   "outputs": [],
   "source": [
    "removing()"
   ]
  },
  {
   "cell_type": "code",
   "execution_count": 82,
   "id": "0ec2f908",
   "metadata": {},
   "outputs": [],
   "source": [
    "def files_num_after_delete():\n",
    " \"\"\"\n",
    " this function count number of files after deleting\n",
    " \"\"\"\n",
    " all_files = os.listdir(\"C:/Users/Domain/Desktop/New folder/Depi_Amit_AI_BNS3/Depi_Amit_AI_BNS3/Sources/oop/file_handling\")\n",
    " print(\"length of files after deletion = \",len(all_files))"
   ]
  },
  {
   "cell_type": "code",
   "execution_count": 83,
   "id": "b1b57a70",
   "metadata": {},
   "outputs": [
    {
     "name": "stdout",
     "output_type": "stream",
     "text": [
      "length of files after deletion =  16\n"
     ]
    }
   ],
   "source": [
    "files_num_after_delete()"
   ]
  }
 ],
 "metadata": {
  "kernelspec": {
   "display_name": ".env",
   "language": "python",
   "name": "python3"
  },
  "language_info": {
   "codemirror_mode": {
    "name": "ipython",
    "version": 3
   },
   "file_extension": ".py",
   "mimetype": "text/x-python",
   "name": "python",
   "nbconvert_exporter": "python",
   "pygments_lexer": "ipython3",
   "version": "3.12.9"
  }
 },
 "nbformat": 4,
 "nbformat_minor": 5
}
