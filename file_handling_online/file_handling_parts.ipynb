{
 "cells": [
  {
   "cell_type": "code",
   "execution_count": 51,
   "id": "0b06f418",
   "metadata": {},
   "outputs": [],
   "source": [
    "# my_file = open(\"C:/Users/Domain/Desktop/New folder/Depi_Amit_AI_BNS3/Depi_Amit_AI_BNS3/file_handling_online/text.txt\",\"r\")\n",
    "# # print(my_file)\n",
    "# print(my_file.name)\n",
    "# print(my_file.read())\n",
    "# print(my_file.readline(6))\n",
    "# print(my_file.readline())\n",
    "# print(my_file.readline())\n",
    "\n",
    "# print(my_file.readlines())\n",
    "# print(type(my_file.readlines()))\n",
    "# print(my_file.readlines(10))\n",
    "# for line in my_file:\n",
    "#     print(line)\n",
    "#     if line.startswith(\"I s\"):\n",
    "#         break\n",
    "\n",
    "# my_file = open(\"C:/Users/Domain/Desktop/New folder/Depi_Amit_AI_BNS3/Depi_Amit_AI_BNS3/file_handling_online/text.txt\",\"w\")\n",
    "# my_file.write(\"Hello Mona\")\n",
    "\n",
    "# my_file = open(r\"C:\\Users\\Domain\\Documents\\fun.txt\",\"w\")\n",
    "# my_file.write(\"Hello World\")\n",
    "\n",
    "# my_file = open(r\"C:\\Users\\Domain\\Documents\\fun.txt\",\"a\")\n",
    "# my_file.write(\"mona\")\n",
    "# my_file.write(\"Third line\")\n",
    "\n",
    "# my_file = open(\"C:/Users/Domain/Desktop/New folder/Depi_Amit_AI_BNS3/Depi_Amit_AI_BNS3/file_handling_online/text.txt\",\"a\")\n",
    "# my_file.write(\"\\n mona helal \\n\")\n",
    "\n",
    "# my_file = open(\"C:/Users/Domain/Desktop/New folder/Depi_Amit_AI_BNS3/Depi_Amit_AI_BNS3/file_handling_online/text.txt\",\"a\")\n",
    "# my_file.truncate(10)\n",
    "# my_file.tell()\n",
    "\n",
    "# my_file = open(\"C:/Users/Domain/Desktop/New folder/Depi_Amit_AI_BNS3/Depi_Amit_AI_BNS3/file_handling_online/text.txt\",\"r\")\n",
    "# my_file.seek(6)\n",
    "# print(my_file.read())\n",
    "\n",
    "\n"
   ]
  },
  {
   "cell_type": "code",
   "execution_count": null,
   "id": "b44652a8",
   "metadata": {},
   "outputs": [],
   "source": [
    "class TextFileReader:\n",
    "    file_path = \"C:/Users/Domain/Desktop/New folder/Depi_Amit_AI_BNS3/Depi_Amit_AI_BNS3/file_handling_online/text.txt\"\n",
    "    def __init__(self):\n",
    "        self.file_path = TextFileReader.file_path\n",
    "\n",
    "    def read_file(self):\n",
    "        self.content = open(TextFileReader.file_path, \"r\")\n",
    "      \n",
    "        \n"
   ]
  },
  {
   "cell_type": "code",
   "execution_count": 62,
   "id": "7f7fb4e3",
   "metadata": {},
   "outputs": [],
   "source": [
    "file_1 = TextFileReader()"
   ]
  },
  {
   "cell_type": "code",
   "execution_count": 63,
   "id": "936d78c6",
   "metadata": {},
   "outputs": [
    {
     "name": "stdout",
     "output_type": "stream",
     "text": [
      "Hello Mona\n",
      "\n"
     ]
    }
   ],
   "source": [
    "file_1.read_file()"
   ]
  },
  {
   "cell_type": "code",
   "execution_count": 64,
   "id": "f8230775",
   "metadata": {},
   "outputs": [],
   "source": [
    "import os"
   ]
  },
  {
   "cell_type": "code",
   "execution_count": 65,
   "id": "230ef1f8",
   "metadata": {},
   "outputs": [],
   "source": [
    "file = os.listdir('C:/Users/Domain/Desktop/New folder/Depi_Amit_AI_BNS3/Depi_Amit_AI_BNS3/file_handling_online/')"
   ]
  },
  {
   "cell_type": "code",
   "execution_count": 66,
   "id": "41c04152",
   "metadata": {},
   "outputs": [
    {
     "name": "stdout",
     "output_type": "stream",
     "text": [
      "['file_handling_parts.ipynb', 'text.txt']\n"
     ]
    }
   ],
   "source": [
    "print(file)"
   ]
  },
  {
   "cell_type": "code",
   "execution_count": 3,
   "id": "2edb1f97",
   "metadata": {},
   "outputs": [
    {
     "name": "stdout",
     "output_type": "stream",
     "text": [
      "[4, 16, 36, 64]\n"
     ]
    }
   ],
   "source": [
    "mylist = [1,2,3,4,5,6,7,8,9]\n",
    "print([x**2 for x in mylist if x%2 == 0])"
   ]
  },
  {
   "cell_type": "code",
   "execution_count": 4,
   "id": "393aed5e",
   "metadata": {},
   "outputs": [],
   "source": [
    "import os"
   ]
  },
  {
   "cell_type": "code",
   "execution_count": 9,
   "id": "d63488a1",
   "metadata": {},
   "outputs": [],
   "source": [
    "file = os.listdir('C:/Users/Domain/Desktop/New folder/Depi_Amit_AI_BNS3/.env')"
   ]
  },
  {
   "cell_type": "code",
   "execution_count": 10,
   "id": "bbb3bc6d",
   "metadata": {},
   "outputs": [
    {
     "name": "stdout",
     "output_type": "stream",
     "text": [
      "['Include', 'Lib', 'pyvenv.cfg', 'Scripts', 'share']\n"
     ]
    }
   ],
   "source": [
    "print(file)"
   ]
  },
  {
   "cell_type": "code",
   "execution_count": 7,
   "id": "01ebfda2",
   "metadata": {},
   "outputs": [],
   "source": [
    "file = os.listdir('C:/Users/Domain/Desktop/New folder/Depi_Amit_AI_BNS3/Depi_Amit_AI_BNS3/beautiful_soup')"
   ]
  },
  {
   "cell_type": "code",
   "execution_count": 8,
   "id": "d8104e44",
   "metadata": {},
   "outputs": [
    {
     "name": "stdout",
     "output_type": "stream",
     "text": [
      "['b_soup.ipynb', 'home.html']\n"
     ]
    }
   ],
   "source": [
    "print(file)"
   ]
  },
  {
   "cell_type": "code",
   "execution_count": 11,
   "id": "7f8f831e",
   "metadata": {},
   "outputs": [
    {
     "data": {
      "text/plain": [
       "'C:/Users/Domain/Desktop/New folder/Depi_Amit_AI_BNS3/Depi_Amit_AI_BNS3/beautiful_soup/test_1.txt'"
      ]
     },
     "execution_count": 11,
     "metadata": {},
     "output_type": "execute_result"
    }
   ],
   "source": [
    "base_dir = \"C:/Users/Domain/Desktop/New folder/Depi_Amit_AI_BNS3/Depi_Amit_AI_BNS3/beautiful_soup\"\n",
    "file_name = \"C:/Users/Domain/Desktop/New folder/Depi_Amit_AI_BNS3/Depi_Amit_AI_BNS3/beautiful_soup/test_1.txt\"\n",
    "file_root_path = os.path.join(base_dir,file_name)\n",
    "file_root_path"
   ]
  },
  {
   "cell_type": "code",
   "execution_count": 12,
   "id": "3d0a3ee5",
   "metadata": {},
   "outputs": [],
   "source": [
    "os.remove(file_root_path)"
   ]
  },
  {
   "cell_type": "code",
   "execution_count": 13,
   "id": "128869cd",
   "metadata": {},
   "outputs": [
    {
     "name": "stdout",
     "output_type": "stream",
     "text": [
      "dir_1 already exists C:/Users/Domain/Desktop/New folder/Depi_Amit_AI_BNS3/Depi_Amit_AI_BNS3/Sources\n"
     ]
    }
   ],
   "source": [
    "import os\n",
    "dir_1 = \"C:/Users/Domain/Desktop/New folder/Depi_Amit_AI_BNS3/Depi_Amit_AI_BNS3/Sources\"\n",
    "if not os.path.exists(dir_1):\n",
    "    os.makedirs(dir_1)\n",
    "else:\n",
    "    print(\"dir_1 already exists\",dir_1)"
   ]
  },
  {
   "cell_type": "code",
   "execution_count": 14,
   "id": "f87bbac4",
   "metadata": {},
   "outputs": [],
   "source": [
    "path = \"C:/Users/Domain/Desktop/New folder/Depi_Amit_AI_BNS3/Depi_Amit_AI_BNS3/beautiful_soup\"\n",
    "if not os.path.exists(path):\n",
    "    os.makedirs(path)\n",
    "for i in range(20):\n",
    "    inner_path = os.path.join(path,\"dir_\"+str(i))\n",
    "    if not os.path.exists(inner_path):\n",
    "        os.makedirs(inner_path)\n",
    "    "
   ]
  },
  {
   "cell_type": "code",
   "execution_count": 15,
   "id": "d24dc7de",
   "metadata": {},
   "outputs": [],
   "source": [
    "def fact(num):\n",
    "    if num == 0:\n",
    "        return 0\n",
    "    if num == 1:\n",
    "        return 1\n",
    "    \n",
    "    return num * fact(num - 1)"
   ]
  },
  {
   "cell_type": "code",
   "execution_count": 16,
   "id": "ff2c1ba5",
   "metadata": {},
   "outputs": [
    {
     "data": {
      "text/plain": [
       "120"
      ]
     },
     "execution_count": 16,
     "metadata": {},
     "output_type": "execute_result"
    }
   ],
   "source": [
    "fact(5)"
   ]
  },
  {
   "cell_type": "code",
   "execution_count": 1,
   "id": "1e5a521e",
   "metadata": {},
   "outputs": [],
   "source": [
    "class TextFileReader:\n",
    "\n",
    "\n",
    "    \"\"\"\n",
    "The `TextFileReader` class provides functionality to read text files and \n",
    "perform basic text analysis. It is designed to make it simple to:\n",
    "    - Read and store file content\n",
    "    - Count the number of lines\n",
    "    - Count the number of words\n",
    "    - Count the number of characters\n",
    "    - Display the file content\n",
    "\n",
    "Class: TextFileReader\n",
    "---------------------\n",
    "Attributes:\n",
    "    file_path (str): Path to the text file.\n",
    "    content (str): Content of the file (populated after reading).\n",
    "\n",
    "Methods:\n",
    "    __init__(file_path):\n",
    "        Initializes the class with the path to the file.\n",
    "    read_file():\n",
    "        Reads the content of the file and stores it.\n",
    "    count_lines() -> int:\n",
    "        Returns the number of lines in the file.\n",
    "    count_words() -> int:\n",
    "        Returns the number of words in the file.\n",
    "    count_characters() -> int:\n",
    "        Returns the number of characters (including spaces/newlines).\n",
    "    display_content():\n",
    "        Prints the file content to the console.\n",
    "\n",
    "\"\"\"\n",
    "\n",
    "\n",
    "\n",
    "    file_path = None\n",
    "    def __init__(self,file_path):\n",
    "        self.file_path = file_path\n",
    "\n",
    "    def read_file(self):\n",
    "        with open(self.file_path , \"r\") as text_file:\n",
    "            self.content = text_file.read()\n",
    "\n",
    "    def count_lines(self):\n",
    "        return self.content.count(\"\\n\") + 1\n",
    "    def count_words(self):\n",
    "        return len(self.content.split())\n",
    "    def count_characters(self):\n",
    "        return len(self.content)\n",
    "    def display_content(self):\n",
    "        print(self.content)\n",
    "\n"
   ]
  },
  {
   "cell_type": "code",
   "execution_count": 2,
   "id": "b05b0081",
   "metadata": {},
   "outputs": [],
   "source": [
    "T = TextFileReader(\"C:/Users/Domain/Desktop/New folder/Depi_Amit_AI_BNS3/Depi_Amit_AI_BNS3/file_handling_online/text.txt\")"
   ]
  },
  {
   "cell_type": "code",
   "execution_count": 3,
   "id": "3b345edf",
   "metadata": {},
   "outputs": [
    {
     "name": "stdout",
     "output_type": "stream",
     "text": [
      "2\n",
      "6\n",
      "25\n",
      "Hello Mona\n",
      "My track is DS\n"
     ]
    }
   ],
   "source": [
    "T.read_file()\n",
    "print(T.count_lines())\n",
    "print(T.count_words())\n",
    "print(T.count_characters())\n",
    "T.display_content()\n"
   ]
  },
  {
   "cell_type": "code",
   "execution_count": null,
   "id": "4fe0c7a9",
   "metadata": {},
   "outputs": [],
   "source": []
  },
  {
   "cell_type": "code",
   "execution_count": null,
   "id": "e4dc12f1",
   "metadata": {},
   "outputs": [],
   "source": []
  }
 ],
 "metadata": {
  "kernelspec": {
   "display_name": ".env",
   "language": "python",
   "name": "python3"
  },
  "language_info": {
   "codemirror_mode": {
    "name": "ipython",
    "version": 3
   },
   "file_extension": ".py",
   "mimetype": "text/x-python",
   "name": "python",
   "nbconvert_exporter": "python",
   "pygments_lexer": "ipython3",
   "version": "3.12.9"
  }
 },
 "nbformat": 4,
 "nbformat_minor": 5
}
