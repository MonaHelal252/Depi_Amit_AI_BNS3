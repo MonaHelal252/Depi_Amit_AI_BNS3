{
 "cells": [
  {
   "cell_type": "code",
   "execution_count": 1,
   "id": "58541044",
   "metadata": {},
   "outputs": [],
   "source": [
    "import numpy as np"
   ]
  },
  {
   "cell_type": "code",
   "execution_count": 16,
   "id": "98e1cb10",
   "metadata": {},
   "outputs": [
    {
     "name": "stdout",
     "output_type": "stream",
     "text": [
      "0\n",
      "()\n",
      "==========\n",
      "1\n",
      "==========\n",
      "2\n",
      "==========\n",
      "(3, 3)\n"
     ]
    }
   ],
   "source": [
    "s = np.array(5)\n",
    "print(s.ndim)\n",
    "print(s.shape)\n",
    "print(\"==========\")\n",
    "v = np.array([1,2,3])\n",
    "print(v.ndim)\n",
    "print(\"==========\")\n",
    "m = np.array([[1,2,3],\n",
    "              [4,5,6],\n",
    "              [7,8,9]\n",
    "             ])\n",
    "\n",
    "print(m.ndim)\n",
    "print(\"==========\")\n",
    "print(m.shape)"
   ]
  },
  {
   "cell_type": "code",
   "execution_count": 19,
   "id": "05465fc7",
   "metadata": {},
   "outputs": [
    {
     "name": "stdout",
     "output_type": "stream",
     "text": [
      "[1 2 3 4 5 6]\n",
      "[[1 2]\n",
      " [3 4]\n",
      " [5 6]]\n"
     ]
    }
   ],
   "source": [
    "vec_1 = np.array([1,2,3,4,5,6])\n",
    "mat_1 = vec_1.reshape((3,2))\n",
    "# vec_1.shape\n",
    "print(vec_1)\n",
    "print(mat_1)\n",
    "\n"
   ]
  },
  {
   "cell_type": "code",
   "execution_count": 25,
   "id": "c282e510",
   "metadata": {},
   "outputs": [
    {
     "data": {
      "text/plain": [
       "array([[1],\n",
       "       [2],\n",
       "       [3],\n",
       "       [4]])"
      ]
     },
     "execution_count": 25,
     "metadata": {},
     "output_type": "execute_result"
    }
   ],
   "source": [
    "vec_2 = np.array([1,2,3,4])\n",
    "mat_2 = vec_2.reshape(vec_2.shape[0],1)\n",
    "mat_2"
   ]
  },
  {
   "cell_type": "code",
   "execution_count": 23,
   "id": "884f4ed7",
   "metadata": {},
   "outputs": [
    {
     "data": {
      "text/plain": [
       "4"
      ]
     },
     "execution_count": 23,
     "metadata": {},
     "output_type": "execute_result"
    }
   ],
   "source": [
    "vec_2.shape[0]"
   ]
  },
  {
   "cell_type": "code",
   "execution_count": 28,
   "id": "6da5f95d",
   "metadata": {},
   "outputs": [
    {
     "data": {
      "text/plain": [
       "array([[1],\n",
       "       [2],\n",
       "       [3],\n",
       "       [4]])"
      ]
     },
     "execution_count": 28,
     "metadata": {},
     "output_type": "execute_result"
    }
   ],
   "source": [
    "vec_2[:,None]"
   ]
  },
  {
   "cell_type": "code",
   "execution_count": 37,
   "id": "3a077600",
   "metadata": {},
   "outputs": [
    {
     "data": {
      "text/plain": [
       "dtype('float64')"
      ]
     },
     "execution_count": 37,
     "metadata": {},
     "output_type": "execute_result"
    }
   ],
   "source": [
    "mat = np.array([[False,True,3.1],\n",
    "                [4,5,6],\n",
    "                [7,8,9]\n",
    "])\n",
    "\n",
    "mat.dtype\n",
    "# mat"
   ]
  },
  {
   "cell_type": "code",
   "execution_count": 38,
   "id": "f76badeb",
   "metadata": {},
   "outputs": [],
   "source": [
    "class c:\n",
    "    x = 3\n",
    "o1 = c()  "
   ]
  },
  {
   "cell_type": "code",
   "execution_count": 41,
   "id": "741f5dd1",
   "metadata": {},
   "outputs": [
    {
     "name": "stdout",
     "output_type": "stream",
     "text": [
      "[['False' 'True' 'mona']\n",
      " ['4' '5' '6']\n",
      " ['7' '8' '9']]\n",
      "<U21\n"
     ]
    }
   ],
   "source": [
    "mat = np.array([[False,True,\"mona\"],\n",
    "                [4,5,6],\n",
    "                [7,8,9]\n",
    "])\n",
    "\n",
    "print(mat)\n",
    "print(mat.dtype)"
   ]
  },
  {
   "cell_type": "code",
   "execution_count": 42,
   "id": "5716be14",
   "metadata": {},
   "outputs": [
    {
     "data": {
      "text/plain": [
       "np.str_('5')"
      ]
     },
     "execution_count": 42,
     "metadata": {},
     "output_type": "execute_result"
    }
   ],
   "source": [
    "mat = np.array([[False,True,\"mona\"],\n",
    "                [4,5,6],\n",
    "                [7,8,9],\n",
    "                [0,0,0]\n",
    "])\n",
    "\n",
    "mat[1,-2]"
   ]
  },
  {
   "cell_type": "code",
   "execution_count": 50,
   "id": "b04b6f7a",
   "metadata": {},
   "outputs": [
    {
     "data": {
      "text/plain": [
       "array([[4, 5],\n",
       "       [4, 5]])"
      ]
     },
     "execution_count": 50,
     "metadata": {},
     "output_type": "execute_result"
    }
   ],
   "source": [
    "mat= np.array([[1,2,3,4,5,6],\n",
    "              [7,2,9,4,5,6],\n",
    "              [1,5,3,4,5,6]\n",
    "              ])\n",
    "mat[-3:-1 , -3:-1]"
   ]
  },
  {
   "cell_type": "code",
   "execution_count": 51,
   "id": "b0ca0140",
   "metadata": {},
   "outputs": [
    {
     "data": {
      "text/plain": [
       "array([[1, 7, 1],\n",
       "       [2, 2, 5],\n",
       "       [3, 9, 3],\n",
       "       [4, 4, 4],\n",
       "       [5, 5, 5],\n",
       "       [6, 6, 6]])"
      ]
     },
     "execution_count": 51,
     "metadata": {},
     "output_type": "execute_result"
    }
   ],
   "source": [
    "transpose = mat.T\n",
    "transpose"
   ]
  },
  {
   "cell_type": "code",
   "execution_count": 52,
   "id": "da135743",
   "metadata": {},
   "outputs": [
    {
     "data": {
      "text/plain": [
       "array([[0., 0., 0., 0.],\n",
       "       [0., 0., 0., 0.],\n",
       "       [0., 0., 0., 0.]])"
      ]
     },
     "execution_count": 52,
     "metadata": {},
     "output_type": "execute_result"
    }
   ],
   "source": [
    "mat = np.zeros((3,4))\n",
    "mat"
   ]
  },
  {
   "cell_type": "code",
   "execution_count": 53,
   "id": "faa0c071",
   "metadata": {},
   "outputs": [
    {
     "data": {
      "text/plain": [
       "array([[1., 1., 1., 1.],\n",
       "       [1., 1., 1., 1.],\n",
       "       [1., 1., 1., 1.]])"
      ]
     },
     "execution_count": 53,
     "metadata": {},
     "output_type": "execute_result"
    }
   ],
   "source": [
    "mat = np.ones((3,4))\n",
    "mat"
   ]
  },
  {
   "cell_type": "code",
   "execution_count": 54,
   "id": "e424dcf9",
   "metadata": {},
   "outputs": [
    {
     "data": {
      "text/plain": [
       "array([[1., 0., 0.],\n",
       "       [0., 1., 0.],\n",
       "       [0., 0., 1.]], dtype=float32)"
      ]
     },
     "execution_count": 54,
     "metadata": {},
     "output_type": "execute_result"
    }
   ],
   "source": [
    "mat = np.identity(3,dtype= 'float32')\n",
    "mat"
   ]
  },
  {
   "cell_type": "code",
   "execution_count": 2,
   "id": "239b1927",
   "metadata": {},
   "outputs": [
    {
     "data": {
      "text/plain": [
       "array([[5, 5, 5],\n",
       "       [5, 5, 5],\n",
       "       [5, 5, 5]])"
      ]
     },
     "execution_count": 2,
     "metadata": {},
     "output_type": "execute_result"
    }
   ],
   "source": [
    "mat = np.full((3,3),5)\n",
    "\n",
    "mat"
   ]
  },
  {
   "cell_type": "code",
   "execution_count": 3,
   "id": "8a511156",
   "metadata": {},
   "outputs": [
    {
     "data": {
      "text/plain": [
       "array([['10', 'ali', '10', '10', 'True'],\n",
       "       ['True', 'ali', '10', '10', 'ali'],\n",
       "       ['10', '10', 'ali', 'amir', 'amir']], dtype='<U21')"
      ]
     },
     "execution_count": 3,
     "metadata": {},
     "output_type": "execute_result"
    }
   ],
   "source": [
    "a = ['ali',10,True,'amir']\n",
    "np.random.choice(a , size = (3,5))"
   ]
  },
  {
   "cell_type": "code",
   "execution_count": 1,
   "id": "c45f8231",
   "metadata": {},
   "outputs": [],
   "source": [
    "import numpy as np"
   ]
  },
  {
   "cell_type": "code",
   "execution_count": 2,
   "id": "ded4ab17",
   "metadata": {},
   "outputs": [],
   "source": [
    "mat_1 = np.ones((3,4))\n",
    "mat_2 = np.zeros((5,3))"
   ]
  },
  {
   "cell_type": "code",
   "execution_count": null,
   "id": "b4f0f296",
   "metadata": {},
   "outputs": [],
   "source": []
  }
 ],
 "metadata": {
  "kernelspec": {
   "display_name": ".env",
   "language": "python",
   "name": "python3"
  },
  "language_info": {
   "codemirror_mode": {
    "name": "ipython",
    "version": 3
   },
   "file_extension": ".py",
   "mimetype": "text/x-python",
   "name": "python",
   "nbconvert_exporter": "python",
   "pygments_lexer": "ipython3",
   "version": "3.12.9"
  }
 },
 "nbformat": 4,
 "nbformat_minor": 5
}
