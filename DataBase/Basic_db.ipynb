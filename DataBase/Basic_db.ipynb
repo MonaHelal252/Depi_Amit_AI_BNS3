{
 "cells": [
  {
   "cell_type": "markdown",
   "id": "6dc47bb6",
   "metadata": {},
   "source": [
    "Database With Python"
   ]
  },
  {
   "cell_type": "code",
   "execution_count": 3,
   "id": "92e4d725",
   "metadata": {},
   "outputs": [
    {
     "name": "stdout",
     "output_type": "stream",
     "text": [
      "Collecting psycopg2-binary\n",
      "  Downloading psycopg2_binary-2.9.10-cp312-cp312-win_amd64.whl.metadata (5.0 kB)\n",
      "Downloading psycopg2_binary-2.9.10-cp312-cp312-win_amd64.whl (1.2 MB)\n",
      "   ---------------------------------------- 0.0/1.2 MB ? eta -:--:--\n",
      "   ---------------------------------------- 0.0/1.2 MB ? eta -:--:--\n",
      "   ---------------------------------------- 0.0/1.2 MB ? eta -:--:--\n",
      "   ---------------------------------------- 0.0/1.2 MB ? eta -:--:--\n",
      "   --------- ------------------------------ 0.3/1.2 MB ? eta -:--:--\n",
      "   --------- ------------------------------ 0.3/1.2 MB ? eta -:--:--\n",
      "   --------- ------------------------------ 0.3/1.2 MB ? eta -:--:--\n",
      "   --------- ------------------------------ 0.3/1.2 MB ? eta -:--:--\n",
      "   ------------------ --------------------- 0.5/1.2 MB 305.2 kB/s eta 0:00:03\n",
      "   ------------------ --------------------- 0.5/1.2 MB 305.2 kB/s eta 0:00:03\n",
      "   ------------------ --------------------- 0.5/1.2 MB 305.2 kB/s eta 0:00:03\n",
      "   --------------------------- ------------ 0.8/1.2 MB 390.1 kB/s eta 0:00:01\n",
      "   --------------------------- ------------ 0.8/1.2 MB 390.1 kB/s eta 0:00:01\n",
      "   --------------------------- ------------ 0.8/1.2 MB 390.1 kB/s eta 0:00:01\n",
      "   --------------------------- ------------ 0.8/1.2 MB 390.1 kB/s eta 0:00:01\n",
      "   --------------------------- ------------ 0.8/1.2 MB 390.1 kB/s eta 0:00:01\n",
      "   ------------------------------------ --- 1.0/1.2 MB 320.6 kB/s eta 0:00:01\n",
      "   ------------------------------------ --- 1.0/1.2 MB 320.6 kB/s eta 0:00:01\n",
      "   ------------------------------------ --- 1.0/1.2 MB 320.6 kB/s eta 0:00:01\n",
      "   ------------------------------------ --- 1.0/1.2 MB 320.6 kB/s eta 0:00:01\n",
      "   ------------------------------------ --- 1.0/1.2 MB 320.6 kB/s eta 0:00:01\n",
      "   ------------------------------------ --- 1.0/1.2 MB 320.6 kB/s eta 0:00:01\n",
      "   ---------------------------------------- 1.2/1.2 MB 246.7 kB/s eta 0:00:00\n",
      "Installing collected packages: psycopg2-binary\n",
      "Successfully installed psycopg2-binary-2.9.10\n",
      "Note: you may need to restart the kernel to use updated packages.\n"
     ]
    },
    {
     "name": "stderr",
     "output_type": "stream",
     "text": [
      "\n",
      "[notice] A new release of pip is available: 24.3.1 -> 25.2\n",
      "[notice] To update, run: python.exe -m pip install --upgrade pip\n"
     ]
    }
   ],
   "source": [
    "pip install psycopg2-binary"
   ]
  },
  {
   "cell_type": "code",
   "execution_count": 3,
   "id": "48746792",
   "metadata": {},
   "outputs": [],
   "source": [
    "import psycopg2"
   ]
  },
  {
   "cell_type": "code",
   "execution_count": 8,
   "id": "1dad6397",
   "metadata": {},
   "outputs": [],
   "source": [
    "my_connect = psycopg2.connect(\n",
    "\n",
    "host = \"localhost\",\n",
    "database = 'First_database',\n",
    "user = 'postgres',\n",
    "password = \"monahelal_2502\"\n",
    "\n",
    ")"
   ]
  },
  {
   "cell_type": "code",
   "execution_count": 5,
   "id": "fb405560",
   "metadata": {},
   "outputs": [],
   "source": [
    "cur = my_connect.cursor()"
   ]
  },
  {
   "cell_type": "code",
   "execution_count": 6,
   "id": "9c669ddc",
   "metadata": {},
   "outputs": [
    {
     "name": "stdout",
     "output_type": "stream",
     "text": [
      "postgres\n"
     ]
    }
   ],
   "source": [
    "cur.execute('SELECT current_user')\n",
    "print(cur.fetchone()[0])"
   ]
  },
  {
   "cell_type": "markdown",
   "id": "87d07476",
   "metadata": {},
   "source": [
    "create new database"
   ]
  },
  {
   "cell_type": "code",
   "execution_count": 9,
   "id": "5c38dff2",
   "metadata": {},
   "outputs": [
    {
     "ename": "DuplicateDatabase",
     "evalue": "database \"ds_new_\" already exists\n",
     "output_type": "error",
     "traceback": [
      "\u001b[31m---------------------------------------------------------------------------\u001b[39m",
      "\u001b[31mDuplicateDatabase\u001b[39m                         Traceback (most recent call last)",
      "\u001b[36mCell\u001b[39m\u001b[36m \u001b[39m\u001b[32mIn[9]\u001b[39m\u001b[32m, line 3\u001b[39m\n\u001b[32m      1\u001b[39m my_connect.autocommit = \u001b[38;5;28;01mTrue\u001b[39;00m\n\u001b[32m      2\u001b[39m cur = my_connect.cursor()\n\u001b[32m----> \u001b[39m\u001b[32m3\u001b[39m \u001b[43mcur\u001b[49m\u001b[43m.\u001b[49m\u001b[43mexecute\u001b[49m\u001b[43m(\u001b[49m\u001b[33;43m\"\u001b[39;49m\u001b[33;43mCREATE DATABASE DS_NEW_\u001b[39;49m\u001b[33;43m\"\u001b[39;49m\u001b[43m)\u001b[49m\n",
      "\u001b[31mDuplicateDatabase\u001b[39m: database \"ds_new_\" already exists\n"
     ]
    }
   ],
   "source": [
    "my_connect.autocommit = True\n",
    "cur = my_connect.cursor()\n",
    "cur.execute(\"CREATE DATABASE DS_NEW_\")"
   ]
  },
  {
   "cell_type": "code",
   "execution_count": 6,
   "id": "ab00c4ad",
   "metadata": {},
   "outputs": [
    {
     "name": "stdout",
     "output_type": "stream",
     "text": [
      "postgres\n",
      "First_database\n",
      "F_DB_task\n",
      "cust\n",
      "ds_new\n",
      "ds_new_\n"
     ]
    }
   ],
   "source": [
    "cur.execute(\"SELECT datname from PG_database WHERE datistemplate = false\")\n",
    "for db in cur.fetchall():\n",
    "    print(db[0])"
   ]
  },
  {
   "cell_type": "code",
   "execution_count": null,
   "id": "26c990ab",
   "metadata": {},
   "outputs": [],
   "source": [
    "cur.execute(\"CREATE TABLE students (name VARCHAR(50),phone VARCHAR(20))\")\n",
    "print(\"table created\")"
   ]
  },
  {
   "cell_type": "code",
   "execution_count": 12,
   "id": "2c1a9a02",
   "metadata": {},
   "outputs": [
    {
     "ename": "DuplicateColumn",
     "evalue": "column \"phone\" of relation \"students\" already exists\n",
     "output_type": "error",
     "traceback": [
      "\u001b[31m---------------------------------------------------------------------------\u001b[39m",
      "\u001b[31mDuplicateColumn\u001b[39m                           Traceback (most recent call last)",
      "\u001b[36mCell\u001b[39m\u001b[36m \u001b[39m\u001b[32mIn[12]\u001b[39m\u001b[32m, line 1\u001b[39m\n\u001b[32m----> \u001b[39m\u001b[32m1\u001b[39m \u001b[43mcur\u001b[49m\u001b[43m.\u001b[49m\u001b[43mexecute\u001b[49m\u001b[43m(\u001b[49m\u001b[33;43m\"\u001b[39;49m\u001b[33;43mALTER TABLE students RENAME COLUMN phone TO Phone\u001b[39;49m\u001b[33;43m\"\u001b[39;49m\u001b[43m)\u001b[49m\n\u001b[32m      2\u001b[39m \u001b[38;5;28mprint\u001b[39m(\u001b[33m\"\u001b[39m\u001b[33mColumn change\u001b[39m\u001b[33m\"\u001b[39m)\n",
      "\u001b[31mDuplicateColumn\u001b[39m: column \"phone\" of relation \"students\" already exists\n"
     ]
    }
   ],
   "source": [
    "cur.execute(\"ALTER TABLE students RENAME COLUMN phone TO Phone\")\n",
    "print(\"Column change\")"
   ]
  },
  {
   "cell_type": "code",
   "execution_count": 17,
   "id": "45e286cf",
   "metadata": {},
   "outputs": [
    {
     "name": "stdout",
     "output_type": "stream",
     "text": [
      "The new row already inserted\n",
      "1\n"
     ]
    }
   ],
   "source": [
    "sql = \"INSERT INTO students (name,phone) values (%s , %s)\"\n",
    "data = (\"mona\",\"01277529074\")\n",
    "cur.execute(sql,data)\n",
    "my_connect.commit()\n",
    "print(\"The new row already inserted\")\n",
    "print(cur.rowcount)"
   ]
  },
  {
   "cell_type": "code",
   "execution_count": 19,
   "id": "e5fd2b05",
   "metadata": {},
   "outputs": [
    {
     "name": "stdout",
     "output_type": "stream",
     "text": [
      "5\n"
     ]
    }
   ],
   "source": [
    "sql = \"INSERT INTO students (name,phone) values (%s , %s)\"\n",
    "data =[ (\"mona\",\"01277529074\"),\n",
    "       (\"mona\",\"01277529074\"),\n",
    "       (\"mona\",\"01277529074\"),\n",
    "       (\"mona\",\"01277529074\"),\n",
    "       (\"mona\",\"01277529074\")\n",
    "       \n",
    "       ]\n",
    "\n",
    "cur.executemany(sql,data)\n",
    "my_connect.commit()\n",
    "print(cur.rowcount)\n"
   ]
  },
  {
   "cell_type": "code",
   "execution_count": 20,
   "id": "30778373",
   "metadata": {},
   "outputs": [
    {
     "name": "stdout",
     "output_type": "stream",
     "text": [
      "('mona', '1277524581')\n",
      "('mona', '01277529074')\n",
      "('mona', '01277529074')\n",
      "('mona', '01277529074')\n",
      "('mona', '01277529074')\n",
      "('mona', '01277529074')\n",
      "('mona', '01277529074')\n",
      "('mona', '01277529074')\n",
      "('mona', '01277529074')\n",
      "('mona', '01277529074')\n",
      "('mona', '01277529074')\n",
      "('mona', '01277529074')\n",
      "('mona', '01277529074')\n",
      "('mona', '01277529074')\n"
     ]
    }
   ],
   "source": [
    "cur.execute(\"select * from students\")\n",
    "results = cur.fetchall()\n",
    "for i in results:\n",
    "    print(i)"
   ]
  },
  {
   "cell_type": "code",
   "execution_count": 21,
   "id": "93d87e8a",
   "metadata": {},
   "outputs": [
    {
     "name": "stdout",
     "output_type": "stream",
     "text": [
      "('mona',)\n",
      "('mona',)\n",
      "('mona',)\n",
      "('mona',)\n",
      "('mona',)\n",
      "('mona',)\n",
      "('mona',)\n",
      "('mona',)\n",
      "('mona',)\n",
      "('mona',)\n",
      "('mona',)\n",
      "('mona',)\n",
      "('mona',)\n",
      "('mona',)\n"
     ]
    }
   ],
   "source": [
    "cur.execute(\"select name from students\")\n",
    "results = cur.fetchall()\n",
    "for i in results:\n",
    "    print(i)"
   ]
  },
  {
   "cell_type": "code",
   "execution_count": 22,
   "id": "4d6f0a8e",
   "metadata": {},
   "outputs": [
    {
     "name": "stdout",
     "output_type": "stream",
     "text": [
      "('1277524581',)\n",
      "('01277529074',)\n",
      "('01277529074',)\n",
      "('01277529074',)\n",
      "('01277529074',)\n",
      "('01277529074',)\n",
      "('01277529074',)\n",
      "('01277529074',)\n",
      "('01277529074',)\n",
      "('01277529074',)\n",
      "('01277529074',)\n",
      "('01277529074',)\n",
      "('01277529074',)\n",
      "('01277529074',)\n"
     ]
    }
   ],
   "source": [
    "cur.execute(\"select phone from students where name = 'mona'\")\n",
    "results = cur.fetchall()\n",
    "for i in results:\n",
    "    print(i)"
   ]
  },
  {
   "cell_type": "code",
   "execution_count": 26,
   "id": "e25077a8",
   "metadata": {},
   "outputs": [
    {
     "name": "stdout",
     "output_type": "stream",
     "text": [
      "[]\n"
     ]
    }
   ],
   "source": [
    "sql =\"select * from students where name = %s \"\n",
    "data = ('fares',)\n",
    "cur.execute(sql,data)\n",
    "result = cur.fetchall()\n",
    "print(result)"
   ]
  },
  {
   "cell_type": "code",
   "execution_count": 28,
   "id": "c21eeb9f",
   "metadata": {},
   "outputs": [
    {
     "name": "stdout",
     "output_type": "stream",
     "text": [
      "('mona', '1277524581')\n",
      "('mona', '01277529074')\n",
      "('mona', '01277529074')\n",
      "('mona', '01277529074')\n",
      "('mona', '01277529074')\n",
      "('mona', '01277529074')\n",
      "('mona', '01277529074')\n",
      "('mona', '01277529074')\n",
      "('mona', '01277529074')\n",
      "('mona', '01277529074')\n",
      "('mona', '01277529074')\n",
      "('mona', '01277529074')\n",
      "('mona', '01277529074')\n",
      "('mona', '01277529074')\n"
     ]
    }
   ],
   "source": [
    "sql =\"UPDATE students set phone ='888888' where name = 'mona'\"\n",
    "my_connect.commit()\n",
    "cur.execute(\"select * from students\")\n",
    "results= cur.fetchall()\n",
    "for i in results:\n",
    "    print(i)"
   ]
  },
  {
   "cell_type": "code",
   "execution_count": 10,
   "id": "f5287f56",
   "metadata": {},
   "outputs": [
    {
     "name": "stdout",
     "output_type": "stream",
     "text": [
      "Requirement already satisfied: PyQt5 in c:\\users\\domain\\desktop\\new folder\\depi_amit_ai_bns3\\.env\\lib\\site-packages (5.15.11)\n",
      "Requirement already satisfied: PyQt5-sip<13,>=12.15 in c:\\users\\domain\\desktop\\new folder\\depi_amit_ai_bns3\\.env\\lib\\site-packages (from PyQt5) (12.17.0)\n",
      "Requirement already satisfied: PyQt5-Qt5<5.16.0,>=5.15.2 in c:\\users\\domain\\desktop\\new folder\\depi_amit_ai_bns3\\.env\\lib\\site-packages (from PyQt5) (5.15.2)\n",
      "Note: you may need to restart the kernel to use updated packages.\n"
     ]
    },
    {
     "name": "stderr",
     "output_type": "stream",
     "text": [
      "\n",
      "[notice] A new release of pip is available: 24.3.1 -> 25.2\n",
      "[notice] To update, run: python.exe -m pip install --upgrade pip\n"
     ]
    }
   ],
   "source": [
    " pip install PyQt5"
   ]
  },
  {
   "cell_type": "code",
   "execution_count": null,
   "id": "fb11655b",
   "metadata": {},
   "outputs": [],
   "source": []
  }
 ],
 "metadata": {
  "kernelspec": {
   "display_name": ".env",
   "language": "python",
   "name": "python3"
  },
  "language_info": {
   "codemirror_mode": {
    "name": "ipython",
    "version": 3
   },
   "file_extension": ".py",
   "mimetype": "text/x-python",
   "name": "python",
   "nbconvert_exporter": "python",
   "pygments_lexer": "ipython3",
   "version": "3.12.9"
  }
 },
 "nbformat": 4,
 "nbformat_minor": 5
}
