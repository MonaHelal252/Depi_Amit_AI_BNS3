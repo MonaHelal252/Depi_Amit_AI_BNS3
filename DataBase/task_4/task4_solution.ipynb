{
 "cells": [
  {
   "cell_type": "code",
   "execution_count": 1,
   "id": "47f5804e",
   "metadata": {},
   "outputs": [],
   "source": [
    "class TextFileReader:\n",
    "\n",
    "\n",
    "    \"\"\"\n",
    "The `TextFileReader` class provides functionality to read text files and \n",
    "perform basic text analysis. It is designed to make it simple to:\n",
    "    - Read and store file content\n",
    "    - Count the number of lines\n",
    "    - Count the number of words\n",
    "    - Count the number of characters\n",
    "    - Display the file content\n",
    "\n",
    "Class: TextFileReader\n",
    "---------------------\n",
    "Attributes:\n",
    "    file_path (str): Path to the text file.\n",
    "    content (str): Content of the file (populated after reading).\n",
    "\n",
    "Methods:\n",
    "    __init__(file_path):\n",
    "        Initializes the class with the path to the file.\n",
    "    read_file():\n",
    "        Reads the content of the file and stores it.\n",
    "    count_lines() -> int:\n",
    "        Returns the number of lines in the file.\n",
    "    count_words() -> int:\n",
    "        Returns the number of words in the file.\n",
    "    count_characters() -> int:\n",
    "        Returns the number of characters (including spaces/newlines).\n",
    "    display_content():\n",
    "        Prints the file content to the console.\n",
    "\n",
    "\"\"\"\n",
    "\n",
    "\n",
    "\n",
    "    file_path = None\n",
    "    def __init__(self,file_path):\n",
    "        self.file_path = file_path\n",
    "\n",
    "    def read_file(self):\n",
    "        with open(self.file_path , \"r\") as text_file:\n",
    "            self.content = text_file.read()\n",
    "\n",
    "    def count_lines(self):\n",
    "        return self.content.count(\"\\n\") + 1\n",
    "    def count_words(self):\n",
    "        return len(self.content.split())\n",
    "    def count_characters(self):\n",
    "        return len(self.content)\n",
    "    def display_content(self):\n",
    "        print(self.content)\n",
    "\n"
   ]
  },
  {
   "cell_type": "code",
   "execution_count": 4,
   "id": "b188f150",
   "metadata": {},
   "outputs": [],
   "source": [
    "T = TextFileReader(\"C:/Users/Domain/Desktop/New folder/Depi_Amit_AI_BNS3/Depi_Amit_AI_BNS3/file_handling_online/text.txt\")"
   ]
  },
  {
   "cell_type": "code",
   "execution_count": 5,
   "id": "7817bcb9",
   "metadata": {},
   "outputs": [
    {
     "name": "stdout",
     "output_type": "stream",
     "text": [
      "4\n",
      "13\n",
      "63\n",
      "Hello Mona\n",
      "My track is DS\n",
      "I hope to be an excellent programmer\n",
      "\n"
     ]
    }
   ],
   "source": [
    "T.read_file()\n",
    "print(T.count_lines())\n",
    "print(T.count_words())\n",
    "print(T.count_characters())\n",
    "T.display_content()\n"
   ]
  },
  {
   "cell_type": "code",
   "execution_count": null,
   "id": "6e18db0b",
   "metadata": {},
   "outputs": [],
   "source": []
  }
 ],
 "metadata": {
  "kernelspec": {
   "display_name": ".env",
   "language": "python",
   "name": "python3"
  },
  "language_info": {
   "codemirror_mode": {
    "name": "ipython",
    "version": 3
   },
   "file_extension": ".py",
   "mimetype": "text/x-python",
   "name": "python",
   "nbconvert_exporter": "python",
   "pygments_lexer": "ipython3",
   "version": "3.12.9"
  }
 },
 "nbformat": 4,
 "nbformat_minor": 5
}
