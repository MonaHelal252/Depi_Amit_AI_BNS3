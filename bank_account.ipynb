{
 "cells": [
  {
   "cell_type": "code",
   "execution_count": 4,
   "id": "8d46b14f",
   "metadata": {},
   "outputs": [],
   "source": [
    "class BankAccount:\n",
    "    def __init__(self , balance):\n",
    "        self.balance = balance\n",
    "    \n",
    "\n",
    "    def deposit(self , amount):\n",
    "        self.balance += amount\n",
    "        print(f'Deposited {amount}. New balance: {self.balance}')\n",
    "\n",
    "\n",
    "    def withdraw(self , amount):\n",
    "        if amount > self.balance:\n",
    "            print('Insufficient funds')\n",
    "        else:\n",
    "            self.balance -= amount\n",
    "            print(f'Withdrew {amount}. New balance: {self.balance}')\n",
    "\n",
    "\n",
    "    def check_balance(self):\n",
    "        print(f'Current balance: {self.balance}')\n",
    "\n",
    "        return self.deposit, self.withdraw, self.check_balance"
   ]
  },
  {
   "cell_type": "code",
   "execution_count": 7,
   "id": "7618cb97",
   "metadata": {},
   "outputs": [],
   "source": [
    "BA = BankAccount(100)"
   ]
  },
  {
   "cell_type": "code",
   "execution_count": 8,
   "id": "d42dfb3c",
   "metadata": {},
   "outputs": [
    {
     "name": "stdout",
     "output_type": "stream",
     "text": [
      "Deposited 50. New balance: 150\n",
      "Withdrew 30. New balance: 120\n",
      "Current balance: 120\n"
     ]
    },
    {
     "data": {
      "text/plain": [
       "(<bound method BankAccount.deposit of <__main__.BankAccount object at 0x00000274F799B3B0>>,\n",
       " <bound method BankAccount.withdraw of <__main__.BankAccount object at 0x00000274F799B3B0>>,\n",
       " <bound method BankAccount.check_balance of <__main__.BankAccount object at 0x00000274F799B3B0>>)"
      ]
     },
     "execution_count": 8,
     "metadata": {},
     "output_type": "execute_result"
    }
   ],
   "source": [
    "BA.deposit(50)\n",
    "BA.withdraw(30)\n",
    "BA.check_balance()"
   ]
  },
  {
   "cell_type": "code",
   "execution_count": null,
   "id": "31f75619",
   "metadata": {},
   "outputs": [],
   "source": []
  }
 ],
 "metadata": {
  "kernelspec": {
   "display_name": ".env",
   "language": "python",
   "name": "python3"
  },
  "language_info": {
   "codemirror_mode": {
    "name": "ipython",
    "version": 3
   },
   "file_extension": ".py",
   "mimetype": "text/x-python",
   "name": "python",
   "nbconvert_exporter": "python",
   "pygments_lexer": "ipython3",
   "version": "3.12.9"
  }
 },
 "nbformat": 4,
 "nbformat_minor": 5
}
